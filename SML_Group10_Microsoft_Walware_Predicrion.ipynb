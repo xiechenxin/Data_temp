{
 "cells": [
  {
   "cell_type": "markdown",
   "metadata": {},
   "source": [
    "# Group project: Microsoft Malware Prediction"
   ]
  },
  {
   "cell_type": "markdown",
   "metadata": {},
   "source": [
    "####  Group 10:  Alejandra Zambrano, Chenxin Xie, Manoj Kumar Purushothaman"
   ]
  },
  {
   "cell_type": "markdown",
   "metadata": {},
   "source": [
    "### 1. Load libraries"
   ]
  },
  {
   "cell_type": "code",
   "execution_count": 4,
   "metadata": {},
   "outputs": [],
   "source": [
    "Sys.setenv(LANG = \"en\")\n",
    "\n",
    "# Data processing library\n",
    "\n",
    "library(data.table)       # Data manipulation\n",
    "library(plyr)             # Data manipulation\n",
    "library(dplyr)            # Data manipulation\n",
    "library(tidyr)            # Data manipulation\n",
    "library(stringr)          # String, text processing\n",
    "library(vita)             # Quickly check variable importance\n",
    "library(dataPreparation)  # Data preparation library\n",
    "library(rlist)            # Data manipulation\n",
    "library(regclass)\n",
    "library(tibble)\n",
    "\n",
    "\n",
    "# Machine learning library\n",
    "library(mlr)           # Machine learning framework\n",
    "library(caret)         # Data processing and machine learning framework\n",
    "library(MASS)          # LDA\n",
    "library(randomForest)  # RF\n",
    "library(gbm)           # Boosting Tree\n",
    "library(xgboost)       # XGboost\n",
    "library(parallel)      # mlr framework\n",
    "library(parallelMap)   # mlr framwork\n",
    "library(mlrMBO)        # mlr controller"
   ]
  },
  {
   "cell_type": "code",
   "execution_count": 5,
   "metadata": {},
   "outputs": [],
   "source": [
    "# install.packages(\"regclass\")"
   ]
  },
  {
   "cell_type": "code",
   "execution_count": 6,
   "metadata": {},
   "outputs": [
    {
     "data": {
      "text/html": [
       "1e+09"
      ],
      "text/latex": [
       "1e+09"
      ],
      "text/markdown": [
       "1e+09"
      ],
      "text/plain": [
       "[1] 1e+09"
      ]
     },
     "metadata": {},
     "output_type": "display_data"
    }
   ],
   "source": [
    "memory.limit(size=1000000000)"
   ]
  },
  {
   "cell_type": "markdown",
   "metadata": {},
   "source": [
    "### 2. Data summary and Processing"
   ]
  },
  {
   "cell_type": "markdown",
   "metadata": {},
   "source": [
    "### 2.1 Data summary"
   ]
  },
  {
   "cell_type": "markdown",
   "metadata": {},
   "source": [
    "#### Read in data\n",
    "#### Here we read a subset (20%) of the full dataset and working only with 447.000 observations (almost 5% of the dataset in Kaggle)"
   ]
  },
  {
   "cell_type": "code",
   "execution_count": 7,
   "metadata": {},
   "outputs": [],
   "source": [
    "# Read data\n",
    "train_full <- read.csv('./sub_train.csv')"
   ]
  },
  {
   "cell_type": "code",
   "execution_count": 8,
   "metadata": {},
   "outputs": [],
   "source": [
    "set.seed(123)\n",
    "train_ind <- sample(seq_len(nrow(train_full)), size = 447000)\n",
    "train <- train_full[train_ind,]\n",
    "train <- remove_rownames(train)"
   ]
  },
  {
   "cell_type": "code",
   "execution_count": 9,
   "metadata": {},
   "outputs": [
    {
     "data": {
      "text/html": [
       "<table>\n",
       "<thead><tr><th scope=col>MachineIdentifier</th><th scope=col>ProductName</th><th scope=col>EngineVersion</th><th scope=col>AppVersion</th><th scope=col>AvSigVersion</th><th scope=col>IsBeta</th><th scope=col>RtpStateBitfield</th><th scope=col>IsSxsPassiveMode</th><th scope=col>DefaultBrowsersIdentifier</th><th scope=col>AVProductStatesIdentifier</th><th scope=col>...</th><th scope=col>Census_FirmwareVersionIdentifier</th><th scope=col>Census_IsSecureBootEnabled</th><th scope=col>Census_IsWIMBootEnabled</th><th scope=col>Census_IsVirtualDevice</th><th scope=col>Census_IsTouchEnabled</th><th scope=col>Census_IsPenCapable</th><th scope=col>Census_IsAlwaysOnAlwaysConnectedCapable</th><th scope=col>Wdft_IsGamer</th><th scope=col>Wdft_RegionIdentifier</th><th scope=col>HasDetections</th></tr></thead>\n",
       "<tbody>\n",
       "\t<tr><td>b17311335a5a2b3b709597a2bd3b0e13</td><td>win8defender                    </td><td>1.1.14901.4                     </td><td>4.16.17656.18052                </td><td>1.269.1000.0                    </td><td>0                               </td><td>7                               </td><td>0                               </td><td>  NA                            </td><td>53447                           </td><td>...                             </td><td>42130                           </td><td>0                               </td><td>NA                              </td><td>0                               </td><td>0                               </td><td>0                               </td><td>0                               </td><td>0                               </td><td> 3                              </td><td>0                               </td></tr>\n",
       "\t<tr><td>134b2d2ad43e5a2b8572447863033bcb</td><td>win8defender                    </td><td>1.1.15200.1                     </td><td>4.16.17656.18052                </td><td>1.275.687.0                     </td><td>0                               </td><td>7                               </td><td>0                               </td><td>  NA                            </td><td>53447                           </td><td>...                             </td><td> 9296                           </td><td>0                               </td><td>NA                              </td><td>0                               </td><td>0                               </td><td>0                               </td><td>0                               </td><td>0                               </td><td>15                              </td><td>1                               </td></tr>\n",
       "\t<tr><td>a8225b2bd182f400f517e959b1221e99</td><td>win8defender                    </td><td>1.1.15100.1                     </td><td>4.12.16299.15                   </td><td>1.273.309.0                     </td><td>0                               </td><td>7                               </td><td>0                               </td><td>  NA                            </td><td>47238                           </td><td>...                             </td><td>33103                           </td><td>1                               </td><td>NA                              </td><td>0                               </td><td>0                               </td><td>0                               </td><td>0                               </td><td>0                               </td><td> 1                              </td><td>1                               </td></tr>\n",
       "\t<tr><td>624c5478a184517f786dba122df164eb</td><td>win8defender                    </td><td>1.1.15200.1                     </td><td>4.18.1807.18075                 </td><td>1.275.230.0                     </td><td>0                               </td><td>7                               </td><td>0                               </td><td>  NA                            </td><td>47238                           </td><td>...                             </td><td>50302                           </td><td>1                               </td><td>NA                              </td><td>0                               </td><td>0                               </td><td>0                               </td><td>0                               </td><td>0                               </td><td> 3                              </td><td>1                               </td></tr>\n",
       "\t<tr><td>b6cb201455818a249f05f1bc59240d79</td><td>win8defender                    </td><td>1.1.15100.1                     </td><td>4.18.1807.18075                 </td><td>1.273.1620.0                    </td><td>0                               </td><td>7                               </td><td>0                               </td><td>  NA                            </td><td>53447                           </td><td>...                             </td><td>56711                           </td><td>1                               </td><td>NA                              </td><td>0                               </td><td>0                               </td><td>0                               </td><td>0                               </td><td>1                               </td><td>12                              </td><td>0                               </td></tr>\n",
       "\t<tr><td>cab997f1b99144e150926d60a2c08ee6</td><td>win8defender                    </td><td>1.1.13504.0                     </td><td>4.11.15063.447                  </td><td>1.237.0.0                       </td><td>0                               </td><td>7                               </td><td>0                               </td><td>3195                            </td><td>61100                           </td><td>...                             </td><td>33054                           </td><td>1                               </td><td>NA                              </td><td>0                               </td><td>0                               </td><td>0                               </td><td>0                               </td><td>0                               </td><td>11                              </td><td>1                               </td></tr>\n",
       "</tbody>\n",
       "</table>\n"
      ],
      "text/latex": [
       "\\begin{tabular}{r|lllllllllllllllllllllllllllllllllllllllllllllllllllllllllllllllllllllllllllllllllll}\n",
       " MachineIdentifier & ProductName & EngineVersion & AppVersion & AvSigVersion & IsBeta & RtpStateBitfield & IsSxsPassiveMode & DefaultBrowsersIdentifier & AVProductStatesIdentifier & ... & Census\\_FirmwareVersionIdentifier & Census\\_IsSecureBootEnabled & Census\\_IsWIMBootEnabled & Census\\_IsVirtualDevice & Census\\_IsTouchEnabled & Census\\_IsPenCapable & Census\\_IsAlwaysOnAlwaysConnectedCapable & Wdft\\_IsGamer & Wdft\\_RegionIdentifier & HasDetections\\\\\n",
       "\\hline\n",
       "\t b17311335a5a2b3b709597a2bd3b0e13 & win8defender                     & 1.1.14901.4                      & 4.16.17656.18052                 & 1.269.1000.0                     & 0                                & 7                                & 0                                &   NA                             & 53447                            & ...                              & 42130                            & 0                                & NA                               & 0                                & 0                                & 0                                & 0                                & 0                                &  3                               & 0                               \\\\\n",
       "\t 134b2d2ad43e5a2b8572447863033bcb & win8defender                     & 1.1.15200.1                      & 4.16.17656.18052                 & 1.275.687.0                      & 0                                & 7                                & 0                                &   NA                             & 53447                            & ...                              &  9296                            & 0                                & NA                               & 0                                & 0                                & 0                                & 0                                & 0                                & 15                               & 1                               \\\\\n",
       "\t a8225b2bd182f400f517e959b1221e99 & win8defender                     & 1.1.15100.1                      & 4.12.16299.15                    & 1.273.309.0                      & 0                                & 7                                & 0                                &   NA                             & 47238                            & ...                              & 33103                            & 1                                & NA                               & 0                                & 0                                & 0                                & 0                                & 0                                &  1                               & 1                               \\\\\n",
       "\t 624c5478a184517f786dba122df164eb & win8defender                     & 1.1.15200.1                      & 4.18.1807.18075                  & 1.275.230.0                      & 0                                & 7                                & 0                                &   NA                             & 47238                            & ...                              & 50302                            & 1                                & NA                               & 0                                & 0                                & 0                                & 0                                & 0                                &  3                               & 1                               \\\\\n",
       "\t b6cb201455818a249f05f1bc59240d79 & win8defender                     & 1.1.15100.1                      & 4.18.1807.18075                  & 1.273.1620.0                     & 0                                & 7                                & 0                                &   NA                             & 53447                            & ...                              & 56711                            & 1                                & NA                               & 0                                & 0                                & 0                                & 0                                & 1                                & 12                               & 0                               \\\\\n",
       "\t cab997f1b99144e150926d60a2c08ee6 & win8defender                     & 1.1.13504.0                      & 4.11.15063.447                   & 1.237.0.0                        & 0                                & 7                                & 0                                & 3195                             & 61100                            & ...                              & 33054                            & 1                                & NA                               & 0                                & 0                                & 0                                & 0                                & 0                                & 11                               & 1                               \\\\\n",
       "\\end{tabular}\n"
      ],
      "text/markdown": [
       "\n",
       "| MachineIdentifier | ProductName | EngineVersion | AppVersion | AvSigVersion | IsBeta | RtpStateBitfield | IsSxsPassiveMode | DefaultBrowsersIdentifier | AVProductStatesIdentifier | ... | Census_FirmwareVersionIdentifier | Census_IsSecureBootEnabled | Census_IsWIMBootEnabled | Census_IsVirtualDevice | Census_IsTouchEnabled | Census_IsPenCapable | Census_IsAlwaysOnAlwaysConnectedCapable | Wdft_IsGamer | Wdft_RegionIdentifier | HasDetections |\n",
       "|---|---|---|---|---|---|---|---|---|---|---|---|---|---|---|---|---|---|---|---|---|\n",
       "| b17311335a5a2b3b709597a2bd3b0e13 | win8defender                     | 1.1.14901.4                      | 4.16.17656.18052                 | 1.269.1000.0                     | 0                                | 7                                | 0                                |   NA                             | 53447                            | ...                              | 42130                            | 0                                | NA                               | 0                                | 0                                | 0                                | 0                                | 0                                |  3                               | 0                                |\n",
       "| 134b2d2ad43e5a2b8572447863033bcb | win8defender                     | 1.1.15200.1                      | 4.16.17656.18052                 | 1.275.687.0                      | 0                                | 7                                | 0                                |   NA                             | 53447                            | ...                              |  9296                            | 0                                | NA                               | 0                                | 0                                | 0                                | 0                                | 0                                | 15                               | 1                                |\n",
       "| a8225b2bd182f400f517e959b1221e99 | win8defender                     | 1.1.15100.1                      | 4.12.16299.15                    | 1.273.309.0                      | 0                                | 7                                | 0                                |   NA                             | 47238                            | ...                              | 33103                            | 1                                | NA                               | 0                                | 0                                | 0                                | 0                                | 0                                |  1                               | 1                                |\n",
       "| 624c5478a184517f786dba122df164eb | win8defender                     | 1.1.15200.1                      | 4.18.1807.18075                  | 1.275.230.0                      | 0                                | 7                                | 0                                |   NA                             | 47238                            | ...                              | 50302                            | 1                                | NA                               | 0                                | 0                                | 0                                | 0                                | 0                                |  3                               | 1                                |\n",
       "| b6cb201455818a249f05f1bc59240d79 | win8defender                     | 1.1.15100.1                      | 4.18.1807.18075                  | 1.273.1620.0                     | 0                                | 7                                | 0                                |   NA                             | 53447                            | ...                              | 56711                            | 1                                | NA                               | 0                                | 0                                | 0                                | 0                                | 1                                | 12                               | 0                                |\n",
       "| cab997f1b99144e150926d60a2c08ee6 | win8defender                     | 1.1.13504.0                      | 4.11.15063.447                   | 1.237.0.0                        | 0                                | 7                                | 0                                | 3195                             | 61100                            | ...                              | 33054                            | 1                                | NA                               | 0                                | 0                                | 0                                | 0                                | 0                                | 11                               | 1                                |\n",
       "\n"
      ],
      "text/plain": [
       "  MachineIdentifier                ProductName  EngineVersion AppVersion      \n",
       "1 b17311335a5a2b3b709597a2bd3b0e13 win8defender 1.1.14901.4   4.16.17656.18052\n",
       "2 134b2d2ad43e5a2b8572447863033bcb win8defender 1.1.15200.1   4.16.17656.18052\n",
       "3 a8225b2bd182f400f517e959b1221e99 win8defender 1.1.15100.1   4.12.16299.15   \n",
       "4 624c5478a184517f786dba122df164eb win8defender 1.1.15200.1   4.18.1807.18075 \n",
       "5 b6cb201455818a249f05f1bc59240d79 win8defender 1.1.15100.1   4.18.1807.18075 \n",
       "6 cab997f1b99144e150926d60a2c08ee6 win8defender 1.1.13504.0   4.11.15063.447  \n",
       "  AvSigVersion IsBeta RtpStateBitfield IsSxsPassiveMode\n",
       "1 1.269.1000.0 0      7                0               \n",
       "2 1.275.687.0  0      7                0               \n",
       "3 1.273.309.0  0      7                0               \n",
       "4 1.275.230.0  0      7                0               \n",
       "5 1.273.1620.0 0      7                0               \n",
       "6 1.237.0.0    0      7                0               \n",
       "  DefaultBrowsersIdentifier AVProductStatesIdentifier ...\n",
       "1   NA                      53447                     ...\n",
       "2   NA                      53447                     ...\n",
       "3   NA                      47238                     ...\n",
       "4   NA                      47238                     ...\n",
       "5   NA                      53447                     ...\n",
       "6 3195                      61100                     ...\n",
       "  Census_FirmwareVersionIdentifier Census_IsSecureBootEnabled\n",
       "1 42130                            0                         \n",
       "2  9296                            0                         \n",
       "3 33103                            1                         \n",
       "4 50302                            1                         \n",
       "5 56711                            1                         \n",
       "6 33054                            1                         \n",
       "  Census_IsWIMBootEnabled Census_IsVirtualDevice Census_IsTouchEnabled\n",
       "1 NA                      0                      0                    \n",
       "2 NA                      0                      0                    \n",
       "3 NA                      0                      0                    \n",
       "4 NA                      0                      0                    \n",
       "5 NA                      0                      0                    \n",
       "6 NA                      0                      0                    \n",
       "  Census_IsPenCapable Census_IsAlwaysOnAlwaysConnectedCapable Wdft_IsGamer\n",
       "1 0                   0                                       0           \n",
       "2 0                   0                                       0           \n",
       "3 0                   0                                       0           \n",
       "4 0                   0                                       0           \n",
       "5 0                   0                                       1           \n",
       "6 0                   0                                       0           \n",
       "  Wdft_RegionIdentifier HasDetections\n",
       "1  3                    0            \n",
       "2 15                    1            \n",
       "3  1                    1            \n",
       "4  3                    1            \n",
       "5 12                    0            \n",
       "6 11                    1            "
      ]
     },
     "metadata": {},
     "output_type": "display_data"
    }
   ],
   "source": [
    "head(train)"
   ]
  },
  {
   "cell_type": "code",
   "execution_count": 10,
   "metadata": {},
   "outputs": [
    {
     "data": {
      "text/html": [
       "<ol class=list-inline>\n",
       "\t<li>447000</li>\n",
       "\t<li>83</li>\n",
       "</ol>\n"
      ],
      "text/latex": [
       "\\begin{enumerate*}\n",
       "\\item 447000\n",
       "\\item 83\n",
       "\\end{enumerate*}\n"
      ],
      "text/markdown": [
       "1. 447000\n",
       "2. 83\n",
       "\n",
       "\n"
      ],
      "text/plain": [
       "[1] 447000     83"
      ]
     },
     "metadata": {},
     "output_type": "display_data"
    }
   ],
   "source": [
    "dim(train)"
   ]
  },
  {
   "cell_type": "code",
   "execution_count": 11,
   "metadata": {},
   "outputs": [
    {
     "name": "stdout",
     "output_type": "stream",
     "text": [
      "'data.frame':\t447000 obs. of  83 variables:\n",
      " $ MachineIdentifier                                : Factor w/ 1784297 levels \"0000028988387b115f69f31a3bf04f09\",..: 1237518 134058 1172598 685285 1274894 1413785 1697371 1242203 1618268 1638025 ...\n",
      " $ ProductName                                      : Factor w/ 5 levels \"fep\",\"mse\",\"mseprerelease\",..: 5 5 5 5 5 5 5 5 5 5 ...\n",
      " $ EngineVersion                                    : Factor w/ 59 levels \"1.1.11104.0\",..: 52 56 55 56 55 22 55 55 55 55 ...\n",
      " $ AppVersion                                       : Factor w/ 102 levels \"4.10.14393.0\",..: 44 44 21 57 57 18 57 57 27 57 ...\n",
      " $ AvSigVersion                                     : Factor w/ 7864 levels \"0.0.0.0\",\"1.155.266.0\",..: 6284 7731 7177 7566 7085 2175 7296 7069 7081 7044 ...\n",
      " $ IsBeta                                           : int  0 0 0 0 0 0 0 0 0 0 ...\n",
      " $ RtpStateBitfield                                 : int  7 7 7 7 7 7 7 7 7 7 ...\n",
      " $ IsSxsPassiveMode                                 : int  0 0 0 0 0 0 0 0 0 0 ...\n",
      " $ DefaultBrowsersIdentifier                        : int  NA NA NA NA NA 3195 NA NA NA NA ...\n",
      " $ AVProductStatesIdentifier                        : int  53447 53447 47238 47238 53447 61100 53447 53447 22728 53447 ...\n",
      " $ AVProductsInstalled                              : int  1 1 2 2 1 2 1 1 2 1 ...\n",
      " $ AVProductsEnabled                                : int  1 1 1 1 1 1 1 1 1 1 ...\n",
      " $ HasTpm                                           : int  1 1 1 1 1 1 1 1 1 1 ...\n",
      " $ CountryIdentifier                                : int  21 19 139 110 68 108 11 160 214 149 ...\n",
      " $ CityIdentifier                                   : int  153669 5113 87570 3137 100788 75425 82781 85280 143316 NA ...\n",
      " $ OrganizationIdentifier                           : int  NA 27 NA 27 27 NA 27 27 18 NA ...\n",
      " $ GeoNameIdentifier                                : int  39 24 158 211 276 224 16 204 287 181 ...\n",
      " $ LocaleEnglishNameIdentifier                      : int  34 55 75 182 74 74 102 170 277 56 ...\n",
      " $ Platform                                         : Factor w/ 4 levels \"windows10\",\"windows2016\",..: 1 1 1 1 1 1 1 1 1 1 ...\n",
      " $ Processor                                        : Factor w/ 3 levels \"arm64\",\"x64\",..: 2 2 2 2 2 2 2 2 2 2 ...\n",
      " $ OsVer                                            : Factor w/ 28 levels \"10.0.0.0\",\"10.0.0.1\",..: 1 1 1 1 1 1 1 1 1 1 ...\n",
      " $ OsBuild                                          : int  17134 16299 16299 17134 17134 15063 16299 16299 17134 17134 ...\n",
      " $ OsSuite                                          : int  256 768 768 768 768 768 768 768 768 768 ...\n",
      " $ OsPlatformSubRelease                             : Factor w/ 9 levels \"prers5\",\"rs1\",..: 5 4 4 5 5 3 4 4 5 5 ...\n",
      " $ OsBuildLab                                       : Factor w/ 535 levels \"\",\"10240.16384.amd64fre.th1.150709-1700\",..: 238 229 229 238 238 225 229 229 238 238 ...\n",
      " $ SkuEdition                                       : Factor w/ 8 levels \"Cloud\",\"Education\",..: 7 5 5 5 5 5 5 5 5 5 ...\n",
      " $ IsProtected                                      : int  1 1 1 1 1 0 1 1 1 1 ...\n",
      " $ AutoSampleOptIn                                  : int  0 0 0 0 0 0 0 0 0 0 ...\n",
      " $ PuaMode                                          : Factor w/ 3 levels \"\",\"audit\",\"on\": 1 1 1 1 1 1 1 1 1 1 ...\n",
      " $ SMode                                            : int  0 0 0 0 0 NA 0 0 0 0 ...\n",
      " $ IeVerIdentifier                                  : int  137 111 117 137 137 105 111 117 137 137 ...\n",
      " $ SmartScreen                                      : Factor w/ 17 levels \"\",\"&#x01;\",\"&#x02;\",..: 1 15 7 15 1 1 7 15 17 1 ...\n",
      " $ Firewall                                         : int  1 1 1 1 1 1 1 1 1 1 ...\n",
      " $ UacLuaenable                                     : int  1 1 1 1 1 1 1 1 1 1 ...\n",
      " $ Census_MDC2FormFactor                            : Factor w/ 12 levels \"AllInOne\",\"Convertible\",..: 8 8 8 1 3 8 3 3 8 3 ...\n",
      " $ Census_DeviceFamily                              : Factor w/ 3 levels \"Windows\",\"Windows.Desktop\",..: 2 2 2 2 2 2 2 2 2 2 ...\n",
      " $ Census_OEMNameIdentifier                         : int  530 4730 2102 2668 585 2102 528 3035 525 4589 ...\n",
      " $ Census_OEMModelIdentifier                        : int  257653 303613 251615 212956 189879 245766 261778 263653 331210 313586 ...\n",
      " $ Census_ProcessorCoreCount                        : int  2 4 2 2 4 4 4 6 4 4 ...\n",
      " $ Census_ProcessorManufacturerIdentifier           : int  5 5 5 5 5 5 1 1 5 5 ...\n",
      " $ Census_ProcessorModelIdentifier                  : int  2055 2457 1998 2094 2673 3063 1154 844 2412 2706 ...\n",
      " $ Census_ProcessorClass                            : Factor w/ 4 levels \"\",\"high\",\"low\",..: 1 1 1 1 1 1 1 1 1 1 ...\n",
      " $ Census_PrimaryDiskTotalCapacity                  : num  305245 476940 29820 476940 2861588 ...\n",
      " $ Census_PrimaryDiskTypeName                       : Factor w/ 5 levels \"\",\"HDD\",\"SSD\",..: 2 2 3 2 2 3 5 4 2 3 ...\n",
      " $ Census_SystemVolumeTotalCapacity                 : int  101424 237119 28557 102400 1429158 242935 476388 49518 81169 228370 ...\n",
      " $ Census_HasOpticalDiskDrive                       : int  0 0 0 1 0 0 0 0 0 0 ...\n",
      " $ Census_TotalPhysicalRAM                          : int  3072 6144 4096 4096 12288 12288 4096 8192 4096 8192 ...\n",
      " $ Census_ChassisTypeName                           : Factor w/ 39 levels \"\",\"0\",\"127\",\"30\",..: 26 26 26 9 15 26 15 15 26 15 ...\n",
      " $ Census_InternalPrimaryDiagonalDisplaySizeInInches: num  15.5 18.5 11.6 24 21.5 15.5 22 22.3 15.5 21.5 ...\n",
      " $ Census_InternalPrimaryDisplayResolutionHorizontal: int  1366 1680 1366 1440 1920 1920 1680 1680 1920 1920 ...\n",
      " $ Census_InternalPrimaryDisplayResolutionVertical  : int  768 945 768 900 1080 1080 1050 1050 1080 1080 ...\n",
      " $ Census_PowerPlatformRoleName                     : Factor w/ 11 levels \"\",\"AppliancePC\",..: 5 5 5 3 3 5 3 3 5 3 ...\n",
      " $ Census_InternalBatteryType                       : Factor w/ 43 levels \"\",\"\\004ion\",\"\\004lio\",..: 1 1 1 1 1 1 1 1 1 1 ...\n",
      " $ Census_InternalBatteryNumberOfCharges            : num  0.00 0.00 0.00 4.29e+09 4.29e+09 ...\n",
      " $ Census_OSVersion                                 : Factor w/ 353 levels \"10.0.10240.16384\",..: 292 240 252 287 287 211 244 252 283 287 ...\n",
      " $ Census_OSArchitecture                            : Factor w/ 3 levels \"amd64\",\"arm64\",..: 1 1 1 1 1 1 1 1 1 1 ...\n",
      " $ Census_OSBranch                                  : Factor w/ 22 levels \"Khmer OS\",\"rs_prerelease\",..: 11 8 8 11 11 7 8 8 11 11 ...\n",
      " $ Census_OSBuildNumber                             : int  17134 16299 16299 17134 17134 15063 16299 16299 17134 17134 ...\n",
      " $ Census_OSBuildRevision                           : int  48 125 371 228 228 483 192 371 165 228 ...\n",
      " $ Census_OSEdition                                 : Factor w/ 25 levels \"Cloud\",\"Core\",..: 13 2 2 5 2 2 2 2 5 2 ...\n",
      " $ Census_OSSkuName                                 : Factor w/ 23 levels \"CLOUD\",\"CORE\",..: 17 2 2 5 2 2 2 2 5 2 ...\n",
      " $ Census_OSInstallTypeName                         : Factor w/ 9 levels \"Clean\",\"CleanPCRefresh\",..: 9 9 4 8 1 4 9 8 2 9 ...\n",
      " $ Census_OSInstallLanguageIdentifier               : int  2 24 8 29 7 7 5 25 8 24 ...\n",
      " $ Census_OSUILocaleIdentifier                      : int  11 109 31 125 30 30 26 115 31 109 ...\n",
      " $ Census_OSWUAutoUpdateOptionsName                 : Factor w/ 6 levels \"AutoInstallAndRebootAtMaintenanceTime\",..: 6 4 6 3 3 4 4 6 3 3 ...\n",
      " $ Census_IsPortableOperatingSystem                 : int  0 0 0 0 0 0 0 0 0 0 ...\n",
      " $ Census_GenuineStateName                          : Factor w/ 5 levels \"INVALID_LICENSE\",..: 1 2 2 2 2 2 2 1 2 2 ...\n",
      " $ Census_ActivationChannel                         : Factor w/ 6 levels \"OEM:DM\",\"OEM:NONSLP\",..: 3 3 1 1 1 1 3 3 3 2 ...\n",
      " $ Census_IsFlightingInternal                       : int  NA NA NA NA NA NA NA NA NA NA ...\n",
      " $ Census_IsFlightsDisabled                         : int  0 0 0 0 0 0 0 0 0 0 ...\n",
      " $ Census_FlightRing                                : Factor w/ 10 levels \"Canary\",\"Disabled\",..: 6 6 6 6 6 6 6 6 6 6 ...\n",
      " $ Census_ThresholdOptIn                            : int  NA NA NA NA NA NA NA NA NA NA ...\n",
      " $ Census_FirmwareManufacturerIdentifier            : int  142 897 554 628 142 554 142 142 142 142 ...\n",
      " $ Census_FirmwareVersionIdentifier                 : int  42130 9296 33103 50302 56711 33054 2541 62885 69906 10943 ...\n",
      " $ Census_IsSecureBootEnabled                       : int  0 0 1 1 1 1 0 0 1 0 ...\n",
      " $ Census_IsWIMBootEnabled                          : int  NA NA NA NA NA NA NA NA NA NA ...\n",
      " $ Census_IsVirtualDevice                           : int  0 0 0 0 0 0 0 0 0 0 ...\n",
      " $ Census_IsTouchEnabled                            : int  0 0 0 0 0 0 0 0 0 0 ...\n",
      " $ Census_IsPenCapable                              : int  0 0 0 0 0 0 0 0 0 0 ...\n",
      " $ Census_IsAlwaysOnAlwaysConnectedCapable          : int  0 0 0 0 0 0 0 0 0 0 ...\n",
      " $ Wdft_IsGamer                                     : int  0 0 0 0 1 0 0 1 1 0 ...\n",
      " $ Wdft_RegionIdentifier                            : int  3 15 1 3 12 11 15 3 1 15 ...\n",
      " $ HasDetections                                    : int  0 1 1 1 0 1 1 1 0 0 ...\n"
     ]
    }
   ],
   "source": [
    "str(train)"
   ]
  },
  {
   "cell_type": "code",
   "execution_count": 12,
   "metadata": {},
   "outputs": [
    {
     "data": {
      "text/plain": [
       "\n",
       "     0      1 \n",
       "223924 223076 "
      ]
     },
     "metadata": {},
     "output_type": "display_data"
    }
   ],
   "source": [
    "# We can observe that the target variable is balanced\n",
    "table(train$HasDetections)"
   ]
  },
  {
   "cell_type": "markdown",
   "metadata": {},
   "source": [
    "### 2.2 Preprocessing data"
   ]
  },
  {
   "cell_type": "markdown",
   "metadata": {},
   "source": [
    "#### Check missing values"
   ]
  },
  {
   "cell_type": "code",
   "execution_count": 13,
   "metadata": {},
   "outputs": [],
   "source": [
    "stats<-c(\"unique_values\",\"perc_missing_values\", \"perc_biggest_category\", \"type\")\n",
    "df<-data.frame(matrix(ncol=length(stats), nrow=length(colnames(train))))\n",
    "names(df)<-stats\n",
    "rownames(df) <- colnames(train)\n",
    "df[\"type\"] <- sapply(train, class)\n",
    "for (i in colnames(train)){\n",
    "    df[i,1] <- length(unique(train[[i]]))\n",
    "    df[i,2] <- round(sum(is.na(train[i]))/nrow(train),2)\n",
    "    df[i,3] <- round(max(table(train[i]))/nrow(train),2)\n",
    "\n",
    "}                          "
   ]
  },
  {
   "cell_type": "code",
   "execution_count": 14,
   "metadata": {},
   "outputs": [],
   "source": [
    "df <- df[order(-df[\"perc_missing_values\"],-df[\"perc_biggest_category\"]),]"
   ]
  },
  {
   "cell_type": "code",
   "execution_count": 15,
   "metadata": {},
   "outputs": [
    {
     "data": {
      "text/html": [
       "<table>\n",
       "<thead><tr><th></th><th scope=col>unique_values</th><th scope=col>perc_missing_values</th><th scope=col>perc_biggest_category</th><th scope=col>type</th></tr></thead>\n",
       "<tbody>\n",
       "\t<tr><th scope=row>DefaultBrowsersIdentifier</th><td>   516 </td><td>0.95   </td><td>0.01   </td><td>integer</td></tr>\n",
       "\t<tr><th scope=row>Census_IsFlightingInternal</th><td>     2 </td><td>0.83   </td><td>0.17   </td><td>integer</td></tr>\n",
       "\t<tr><th scope=row>Census_ThresholdOptIn</th><td>     3 </td><td>0.63   </td><td>0.37   </td><td>integer</td></tr>\n",
       "\t<tr><th scope=row>Census_IsWIMBootEnabled</th><td>     2 </td><td>0.63   </td><td>0.37   </td><td>integer</td></tr>\n",
       "\t<tr><th scope=row>OrganizationIdentifier</th><td>    46 </td><td>0.31   </td><td>0.47   </td><td>integer</td></tr>\n",
       "\t<tr><th scope=row>SMode</th><td>     3 </td><td>0.06   </td><td>0.94   </td><td>integer</td></tr>\n",
       "\t<tr><th scope=row>CityIdentifier</th><td> 35053 </td><td>0.04   </td><td>0.01   </td><td>integer</td></tr>\n",
       "\t<tr><th scope=row>Wdft_IsGamer</th><td>     3 </td><td>0.03   </td><td>0.69   </td><td>integer</td></tr>\n",
       "\t<tr><th scope=row>Census_InternalBatteryNumberOfCharges</th><td>  4797 </td><td>0.03   </td><td>0.57   </td><td>numeric</td></tr>\n",
       "\t<tr><th scope=row>Wdft_RegionIdentifier</th><td>    16 </td><td>0.03   </td><td>0.20   </td><td>integer</td></tr>\n",
       "\t<tr><th scope=row>Census_IsFlightsDisabled</th><td>     3 </td><td>0.02   </td><td>0.98   </td><td>integer</td></tr>\n",
       "\t<tr><th scope=row>Census_FirmwareManufacturerIdentifier</th><td>   306 </td><td>0.02   </td><td>0.30   </td><td>integer</td></tr>\n",
       "\t<tr><th scope=row>Census_FirmwareVersionIdentifier</th><td> 22622 </td><td>0.02   </td><td>0.01   </td><td>integer</td></tr>\n",
       "\t<tr><th scope=row>Firewall</th><td>     3 </td><td>0.01   </td><td>0.97   </td><td>integer</td></tr>\n",
       "\t<tr><th scope=row>Census_IsAlwaysOnAlwaysConnectedCapable</th><td>     3 </td><td>0.01   </td><td>0.94   </td><td>integer</td></tr>\n",
       "\t<tr><th scope=row>Census_InternalPrimaryDisplayResolutionVertical</th><td>   467 </td><td>0.01   </td><td>0.56   </td><td>integer</td></tr>\n",
       "\t<tr><th scope=row>Census_InternalPrimaryDisplayResolutionHorizontal</th><td>   421 </td><td>0.01   </td><td>0.51   </td><td>integer</td></tr>\n",
       "\t<tr><th scope=row>Census_TotalPhysicalRAM</th><td>   521 </td><td>0.01   </td><td>0.46   </td><td>integer</td></tr>\n",
       "\t<tr><th scope=row>IeVerIdentifier</th><td>   183 </td><td>0.01   </td><td>0.44   </td><td>integer</td></tr>\n",
       "\t<tr><th scope=row>Census_OSInstallLanguageIdentifier</th><td>    40 </td><td>0.01   </td><td>0.36   </td><td>integer</td></tr>\n",
       "\t<tr><th scope=row>Census_InternalPrimaryDiagonalDisplaySizeInInches</th><td>   509 </td><td>0.01   </td><td>0.34   </td><td>numeric</td></tr>\n",
       "\t<tr><th scope=row>Census_PrimaryDiskTotalCapacity</th><td>  1043 </td><td>0.01   </td><td>0.32   </td><td>numeric</td></tr>\n",
       "\t<tr><th scope=row>Census_OEMNameIdentifier</th><td>  1577 </td><td>0.01   </td><td>0.14   </td><td>integer</td></tr>\n",
       "\t<tr><th scope=row>Census_OEMModelIdentifier</th><td> 38319 </td><td>0.01   </td><td>0.03   </td><td>integer</td></tr>\n",
       "\t<tr><th scope=row>Census_SystemVolumeTotalCapacity</th><td>131902 </td><td>0.01   </td><td>0.01   </td><td>integer</td></tr>\n",
       "\t<tr><th scope=row>IsBeta</th><td>     2 </td><td>0.00   </td><td>1.00   </td><td>integer</td></tr>\n",
       "\t<tr><th scope=row>AutoSampleOptIn</th><td>     2 </td><td>0.00   </td><td>1.00   </td><td>integer</td></tr>\n",
       "\t<tr><th scope=row>PuaMode</th><td>     2 </td><td>0.00   </td><td>1.00   </td><td>factor </td></tr>\n",
       "\t<tr><th scope=row>Census_DeviceFamily</th><td>     3 </td><td>0.00   </td><td>1.00   </td><td>factor </td></tr>\n",
       "\t<tr><th scope=row>Census_ProcessorClass</th><td>     4 </td><td>0.00   </td><td>1.00   </td><td>factor </td></tr>\n",
       "\t<tr><th scope=row>...</th><td>...</td><td>...</td><td>...</td><td>...</td></tr>\n",
       "\t<tr><th scope=row>Census_PrimaryDiskTypeName</th><td>     5 </td><td>0      </td><td>0.65   </td><td>factor </td></tr>\n",
       "\t<tr><th scope=row>Census_MDC2FormFactor</th><td>    12 </td><td>0      </td><td>0.64   </td><td>factor </td></tr>\n",
       "\t<tr><th scope=row>OsSuite</th><td>     9 </td><td>0      </td><td>0.62   </td><td>integer</td></tr>\n",
       "\t<tr><th scope=row>SkuEdition</th><td>     8 </td><td>0      </td><td>0.62   </td><td>factor </td></tr>\n",
       "\t<tr><th scope=row>Census_ProcessorCoreCount</th><td>    26 </td><td>0      </td><td>0.61   </td><td>integer</td></tr>\n",
       "\t<tr><th scope=row>Census_ChassisTypeName</th><td>    31 </td><td>0      </td><td>0.59   </td><td>factor </td></tr>\n",
       "\t<tr><th scope=row>AppVersion</th><td>    94 </td><td>0      </td><td>0.58   </td><td>factor </td></tr>\n",
       "\t<tr><th scope=row>Census_ActivationChannel</th><td>     6 </td><td>0      </td><td>0.53   </td><td>factor </td></tr>\n",
       "\t<tr><th scope=row>Census_IsSecureBootEnabled</th><td>     2 </td><td>0      </td><td>0.52   </td><td>integer</td></tr>\n",
       "\t<tr><th scope=row>HasDetections</th><td>     2 </td><td>0      </td><td>0.50   </td><td>integer</td></tr>\n",
       "\t<tr><th scope=row>SmartScreen</th><td>    12 </td><td>0      </td><td>0.48   </td><td>factor </td></tr>\n",
       "\t<tr><th scope=row>Census_OSBranch</th><td>    16 </td><td>0      </td><td>0.45   </td><td>factor </td></tr>\n",
       "\t<tr><th scope=row>Census_OSBuildNumber</th><td>    61 </td><td>0      </td><td>0.45   </td><td>integer</td></tr>\n",
       "\t<tr><th scope=row>OsBuild</th><td>    49 </td><td>0      </td><td>0.44   </td><td>integer</td></tr>\n",
       "\t<tr><th scope=row>OsPlatformSubRelease</th><td>     9 </td><td>0      </td><td>0.44   </td><td>factor </td></tr>\n",
       "\t<tr><th scope=row>Census_OSWUAutoUpdateOptionsName</th><td>     6 </td><td>0      </td><td>0.44   </td><td>factor </td></tr>\n",
       "\t<tr><th scope=row>EngineVersion</th><td>    49 </td><td>0      </td><td>0.43   </td><td>factor </td></tr>\n",
       "\t<tr><th scope=row>OsBuildLab</th><td>   460 </td><td>0      </td><td>0.41   </td><td>factor </td></tr>\n",
       "\t<tr><th scope=row>Census_OSEdition</th><td>    22 </td><td>0      </td><td>0.39   </td><td>factor </td></tr>\n",
       "\t<tr><th scope=row>Census_OSSkuName</th><td>    20 </td><td>0      </td><td>0.39   </td><td>factor </td></tr>\n",
       "\t<tr><th scope=row>Census_OSUILocaleIdentifier</th><td>    91 </td><td>0      </td><td>0.36   </td><td>integer</td></tr>\n",
       "\t<tr><th scope=row>Census_OSInstallTypeName</th><td>     9 </td><td>0      </td><td>0.29   </td><td>factor </td></tr>\n",
       "\t<tr><th scope=row>LocaleEnglishNameIdentifier</th><td>   239 </td><td>0      </td><td>0.24   </td><td>integer</td></tr>\n",
       "\t<tr><th scope=row>GeoNameIdentifier</th><td>   267 </td><td>0      </td><td>0.17   </td><td>integer</td></tr>\n",
       "\t<tr><th scope=row>Census_OSVersion</th><td>   300 </td><td>0      </td><td>0.16   </td><td>factor </td></tr>\n",
       "\t<tr><th scope=row>Census_OSBuildRevision</th><td>   237 </td><td>0      </td><td>0.16   </td><td>integer</td></tr>\n",
       "\t<tr><th scope=row>CountryIdentifier</th><td>   222 </td><td>0      </td><td>0.05   </td><td>integer</td></tr>\n",
       "\t<tr><th scope=row>Census_ProcessorModelIdentifier</th><td>  2223 </td><td>0      </td><td>0.03   </td><td>integer</td></tr>\n",
       "\t<tr><th scope=row>AvSigVersion</th><td>  6295 </td><td>0      </td><td>0.01   </td><td>factor </td></tr>\n",
       "\t<tr><th scope=row>MachineIdentifier</th><td>447000 </td><td>0      </td><td>0.00   </td><td>factor </td></tr>\n",
       "</tbody>\n",
       "</table>\n"
      ],
      "text/latex": [
       "\\begin{tabular}{r|llll}\n",
       "  & unique\\_values & perc\\_missing\\_values & perc\\_biggest\\_category & type\\\\\n",
       "\\hline\n",
       "\tDefaultBrowsersIdentifier &    516  & 0.95    & 0.01    & integer\\\\\n",
       "\tCensus\\_IsFlightingInternal &      2  & 0.83    & 0.17    & integer\\\\\n",
       "\tCensus\\_ThresholdOptIn &      3  & 0.63    & 0.37    & integer\\\\\n",
       "\tCensus\\_IsWIMBootEnabled &      2  & 0.63    & 0.37    & integer\\\\\n",
       "\tOrganizationIdentifier &     46  & 0.31    & 0.47    & integer\\\\\n",
       "\tSMode &      3  & 0.06    & 0.94    & integer\\\\\n",
       "\tCityIdentifier &  35053  & 0.04    & 0.01    & integer\\\\\n",
       "\tWdft\\_IsGamer &      3  & 0.03    & 0.69    & integer\\\\\n",
       "\tCensus\\_InternalBatteryNumberOfCharges &   4797  & 0.03    & 0.57    & numeric\\\\\n",
       "\tWdft\\_RegionIdentifier &     16  & 0.03    & 0.20    & integer\\\\\n",
       "\tCensus\\_IsFlightsDisabled &      3  & 0.02    & 0.98    & integer\\\\\n",
       "\tCensus\\_FirmwareManufacturerIdentifier &    306  & 0.02    & 0.30    & integer\\\\\n",
       "\tCensus\\_FirmwareVersionIdentifier &  22622  & 0.02    & 0.01    & integer\\\\\n",
       "\tFirewall &      3  & 0.01    & 0.97    & integer\\\\\n",
       "\tCensus\\_IsAlwaysOnAlwaysConnectedCapable &      3  & 0.01    & 0.94    & integer\\\\\n",
       "\tCensus\\_InternalPrimaryDisplayResolutionVertical &    467  & 0.01    & 0.56    & integer\\\\\n",
       "\tCensus\\_InternalPrimaryDisplayResolutionHorizontal &    421  & 0.01    & 0.51    & integer\\\\\n",
       "\tCensus\\_TotalPhysicalRAM &    521  & 0.01    & 0.46    & integer\\\\\n",
       "\tIeVerIdentifier &    183  & 0.01    & 0.44    & integer\\\\\n",
       "\tCensus\\_OSInstallLanguageIdentifier &     40  & 0.01    & 0.36    & integer\\\\\n",
       "\tCensus\\_InternalPrimaryDiagonalDisplaySizeInInches &    509  & 0.01    & 0.34    & numeric\\\\\n",
       "\tCensus\\_PrimaryDiskTotalCapacity &   1043  & 0.01    & 0.32    & numeric\\\\\n",
       "\tCensus\\_OEMNameIdentifier &   1577  & 0.01    & 0.14    & integer\\\\\n",
       "\tCensus\\_OEMModelIdentifier &  38319  & 0.01    & 0.03    & integer\\\\\n",
       "\tCensus\\_SystemVolumeTotalCapacity & 131902  & 0.01    & 0.01    & integer\\\\\n",
       "\tIsBeta &      2  & 0.00    & 1.00    & integer\\\\\n",
       "\tAutoSampleOptIn &      2  & 0.00    & 1.00    & integer\\\\\n",
       "\tPuaMode &      2  & 0.00    & 1.00    & factor \\\\\n",
       "\tCensus\\_DeviceFamily &      3  & 0.00    & 1.00    & factor \\\\\n",
       "\tCensus\\_ProcessorClass &      4  & 0.00    & 1.00    & factor \\\\\n",
       "\t... & ... & ... & ... & ...\\\\\n",
       "\tCensus\\_PrimaryDiskTypeName &      5  & 0       & 0.65    & factor \\\\\n",
       "\tCensus\\_MDC2FormFactor &     12  & 0       & 0.64    & factor \\\\\n",
       "\tOsSuite &      9  & 0       & 0.62    & integer\\\\\n",
       "\tSkuEdition &      8  & 0       & 0.62    & factor \\\\\n",
       "\tCensus\\_ProcessorCoreCount &     26  & 0       & 0.61    & integer\\\\\n",
       "\tCensus\\_ChassisTypeName &     31  & 0       & 0.59    & factor \\\\\n",
       "\tAppVersion &     94  & 0       & 0.58    & factor \\\\\n",
       "\tCensus\\_ActivationChannel &      6  & 0       & 0.53    & factor \\\\\n",
       "\tCensus\\_IsSecureBootEnabled &      2  & 0       & 0.52    & integer\\\\\n",
       "\tHasDetections &      2  & 0       & 0.50    & integer\\\\\n",
       "\tSmartScreen &     12  & 0       & 0.48    & factor \\\\\n",
       "\tCensus\\_OSBranch &     16  & 0       & 0.45    & factor \\\\\n",
       "\tCensus\\_OSBuildNumber &     61  & 0       & 0.45    & integer\\\\\n",
       "\tOsBuild &     49  & 0       & 0.44    & integer\\\\\n",
       "\tOsPlatformSubRelease &      9  & 0       & 0.44    & factor \\\\\n",
       "\tCensus\\_OSWUAutoUpdateOptionsName &      6  & 0       & 0.44    & factor \\\\\n",
       "\tEngineVersion &     49  & 0       & 0.43    & factor \\\\\n",
       "\tOsBuildLab &    460  & 0       & 0.41    & factor \\\\\n",
       "\tCensus\\_OSEdition &     22  & 0       & 0.39    & factor \\\\\n",
       "\tCensus\\_OSSkuName &     20  & 0       & 0.39    & factor \\\\\n",
       "\tCensus\\_OSUILocaleIdentifier &     91  & 0       & 0.36    & integer\\\\\n",
       "\tCensus\\_OSInstallTypeName &      9  & 0       & 0.29    & factor \\\\\n",
       "\tLocaleEnglishNameIdentifier &    239  & 0       & 0.24    & integer\\\\\n",
       "\tGeoNameIdentifier &    267  & 0       & 0.17    & integer\\\\\n",
       "\tCensus\\_OSVersion &    300  & 0       & 0.16    & factor \\\\\n",
       "\tCensus\\_OSBuildRevision &    237  & 0       & 0.16    & integer\\\\\n",
       "\tCountryIdentifier &    222  & 0       & 0.05    & integer\\\\\n",
       "\tCensus\\_ProcessorModelIdentifier &   2223  & 0       & 0.03    & integer\\\\\n",
       "\tAvSigVersion &   6295  & 0       & 0.01    & factor \\\\\n",
       "\tMachineIdentifier & 447000  & 0       & 0.00    & factor \\\\\n",
       "\\end{tabular}\n"
      ],
      "text/markdown": [
       "\n",
       "| <!--/--> | unique_values | perc_missing_values | perc_biggest_category | type |\n",
       "|---|---|---|---|---|\n",
       "| DefaultBrowsersIdentifier |    516  | 0.95    | 0.01    | integer |\n",
       "| Census_IsFlightingInternal |      2  | 0.83    | 0.17    | integer |\n",
       "| Census_ThresholdOptIn |      3  | 0.63    | 0.37    | integer |\n",
       "| Census_IsWIMBootEnabled |      2  | 0.63    | 0.37    | integer |\n",
       "| OrganizationIdentifier |     46  | 0.31    | 0.47    | integer |\n",
       "| SMode |      3  | 0.06    | 0.94    | integer |\n",
       "| CityIdentifier |  35053  | 0.04    | 0.01    | integer |\n",
       "| Wdft_IsGamer |      3  | 0.03    | 0.69    | integer |\n",
       "| Census_InternalBatteryNumberOfCharges |   4797  | 0.03    | 0.57    | numeric |\n",
       "| Wdft_RegionIdentifier |     16  | 0.03    | 0.20    | integer |\n",
       "| Census_IsFlightsDisabled |      3  | 0.02    | 0.98    | integer |\n",
       "| Census_FirmwareManufacturerIdentifier |    306  | 0.02    | 0.30    | integer |\n",
       "| Census_FirmwareVersionIdentifier |  22622  | 0.02    | 0.01    | integer |\n",
       "| Firewall |      3  | 0.01    | 0.97    | integer |\n",
       "| Census_IsAlwaysOnAlwaysConnectedCapable |      3  | 0.01    | 0.94    | integer |\n",
       "| Census_InternalPrimaryDisplayResolutionVertical |    467  | 0.01    | 0.56    | integer |\n",
       "| Census_InternalPrimaryDisplayResolutionHorizontal |    421  | 0.01    | 0.51    | integer |\n",
       "| Census_TotalPhysicalRAM |    521  | 0.01    | 0.46    | integer |\n",
       "| IeVerIdentifier |    183  | 0.01    | 0.44    | integer |\n",
       "| Census_OSInstallLanguageIdentifier |     40  | 0.01    | 0.36    | integer |\n",
       "| Census_InternalPrimaryDiagonalDisplaySizeInInches |    509  | 0.01    | 0.34    | numeric |\n",
       "| Census_PrimaryDiskTotalCapacity |   1043  | 0.01    | 0.32    | numeric |\n",
       "| Census_OEMNameIdentifier |   1577  | 0.01    | 0.14    | integer |\n",
       "| Census_OEMModelIdentifier |  38319  | 0.01    | 0.03    | integer |\n",
       "| Census_SystemVolumeTotalCapacity | 131902  | 0.01    | 0.01    | integer |\n",
       "| IsBeta |      2  | 0.00    | 1.00    | integer |\n",
       "| AutoSampleOptIn |      2  | 0.00    | 1.00    | integer |\n",
       "| PuaMode |      2  | 0.00    | 1.00    | factor  |\n",
       "| Census_DeviceFamily |      3  | 0.00    | 1.00    | factor  |\n",
       "| Census_ProcessorClass |      4  | 0.00    | 1.00    | factor  |\n",
       "| ... | ... | ... | ... | ... |\n",
       "| Census_PrimaryDiskTypeName |      5  | 0       | 0.65    | factor  |\n",
       "| Census_MDC2FormFactor |     12  | 0       | 0.64    | factor  |\n",
       "| OsSuite |      9  | 0       | 0.62    | integer |\n",
       "| SkuEdition |      8  | 0       | 0.62    | factor  |\n",
       "| Census_ProcessorCoreCount |     26  | 0       | 0.61    | integer |\n",
       "| Census_ChassisTypeName |     31  | 0       | 0.59    | factor  |\n",
       "| AppVersion |     94  | 0       | 0.58    | factor  |\n",
       "| Census_ActivationChannel |      6  | 0       | 0.53    | factor  |\n",
       "| Census_IsSecureBootEnabled |      2  | 0       | 0.52    | integer |\n",
       "| HasDetections |      2  | 0       | 0.50    | integer |\n",
       "| SmartScreen |     12  | 0       | 0.48    | factor  |\n",
       "| Census_OSBranch |     16  | 0       | 0.45    | factor  |\n",
       "| Census_OSBuildNumber |     61  | 0       | 0.45    | integer |\n",
       "| OsBuild |     49  | 0       | 0.44    | integer |\n",
       "| OsPlatformSubRelease |      9  | 0       | 0.44    | factor  |\n",
       "| Census_OSWUAutoUpdateOptionsName |      6  | 0       | 0.44    | factor  |\n",
       "| EngineVersion |     49  | 0       | 0.43    | factor  |\n",
       "| OsBuildLab |    460  | 0       | 0.41    | factor  |\n",
       "| Census_OSEdition |     22  | 0       | 0.39    | factor  |\n",
       "| Census_OSSkuName |     20  | 0       | 0.39    | factor  |\n",
       "| Census_OSUILocaleIdentifier |     91  | 0       | 0.36    | integer |\n",
       "| Census_OSInstallTypeName |      9  | 0       | 0.29    | factor  |\n",
       "| LocaleEnglishNameIdentifier |    239  | 0       | 0.24    | integer |\n",
       "| GeoNameIdentifier |    267  | 0       | 0.17    | integer |\n",
       "| Census_OSVersion |    300  | 0       | 0.16    | factor  |\n",
       "| Census_OSBuildRevision |    237  | 0       | 0.16    | integer |\n",
       "| CountryIdentifier |    222  | 0       | 0.05    | integer |\n",
       "| Census_ProcessorModelIdentifier |   2223  | 0       | 0.03    | integer |\n",
       "| AvSigVersion |   6295  | 0       | 0.01    | factor  |\n",
       "| MachineIdentifier | 447000  | 0       | 0.00    | factor  |\n",
       "\n"
      ],
      "text/plain": [
       "                                                  unique_values\n",
       "DefaultBrowsersIdentifier                            516       \n",
       "Census_IsFlightingInternal                             2       \n",
       "Census_ThresholdOptIn                                  3       \n",
       "Census_IsWIMBootEnabled                                2       \n",
       "OrganizationIdentifier                                46       \n",
       "SMode                                                  3       \n",
       "CityIdentifier                                     35053       \n",
       "Wdft_IsGamer                                           3       \n",
       "Census_InternalBatteryNumberOfCharges               4797       \n",
       "Wdft_RegionIdentifier                                 16       \n",
       "Census_IsFlightsDisabled                               3       \n",
       "Census_FirmwareManufacturerIdentifier                306       \n",
       "Census_FirmwareVersionIdentifier                   22622       \n",
       "Firewall                                               3       \n",
       "Census_IsAlwaysOnAlwaysConnectedCapable                3       \n",
       "Census_InternalPrimaryDisplayResolutionVertical      467       \n",
       "Census_InternalPrimaryDisplayResolutionHorizontal    421       \n",
       "Census_TotalPhysicalRAM                              521       \n",
       "IeVerIdentifier                                      183       \n",
       "Census_OSInstallLanguageIdentifier                    40       \n",
       "Census_InternalPrimaryDiagonalDisplaySizeInInches    509       \n",
       "Census_PrimaryDiskTotalCapacity                     1043       \n",
       "Census_OEMNameIdentifier                            1577       \n",
       "Census_OEMModelIdentifier                          38319       \n",
       "Census_SystemVolumeTotalCapacity                  131902       \n",
       "IsBeta                                                 2       \n",
       "AutoSampleOptIn                                        2       \n",
       "PuaMode                                                2       \n",
       "Census_DeviceFamily                                    3       \n",
       "Census_ProcessorClass                                  4       \n",
       "...                                               ...          \n",
       "Census_PrimaryDiskTypeName                             5       \n",
       "Census_MDC2FormFactor                                 12       \n",
       "OsSuite                                                9       \n",
       "SkuEdition                                             8       \n",
       "Census_ProcessorCoreCount                             26       \n",
       "Census_ChassisTypeName                                31       \n",
       "AppVersion                                            94       \n",
       "Census_ActivationChannel                               6       \n",
       "Census_IsSecureBootEnabled                             2       \n",
       "HasDetections                                          2       \n",
       "SmartScreen                                           12       \n",
       "Census_OSBranch                                       16       \n",
       "Census_OSBuildNumber                                  61       \n",
       "OsBuild                                               49       \n",
       "OsPlatformSubRelease                                   9       \n",
       "Census_OSWUAutoUpdateOptionsName                       6       \n",
       "EngineVersion                                         49       \n",
       "OsBuildLab                                           460       \n",
       "Census_OSEdition                                      22       \n",
       "Census_OSSkuName                                      20       \n",
       "Census_OSUILocaleIdentifier                           91       \n",
       "Census_OSInstallTypeName                               9       \n",
       "LocaleEnglishNameIdentifier                          239       \n",
       "GeoNameIdentifier                                    267       \n",
       "Census_OSVersion                                     300       \n",
       "Census_OSBuildRevision                               237       \n",
       "CountryIdentifier                                    222       \n",
       "Census_ProcessorModelIdentifier                     2223       \n",
       "AvSigVersion                                        6295       \n",
       "MachineIdentifier                                 447000       \n",
       "                                                  perc_missing_values\n",
       "DefaultBrowsersIdentifier                         0.95               \n",
       "Census_IsFlightingInternal                        0.83               \n",
       "Census_ThresholdOptIn                             0.63               \n",
       "Census_IsWIMBootEnabled                           0.63               \n",
       "OrganizationIdentifier                            0.31               \n",
       "SMode                                             0.06               \n",
       "CityIdentifier                                    0.04               \n",
       "Wdft_IsGamer                                      0.03               \n",
       "Census_InternalBatteryNumberOfCharges             0.03               \n",
       "Wdft_RegionIdentifier                             0.03               \n",
       "Census_IsFlightsDisabled                          0.02               \n",
       "Census_FirmwareManufacturerIdentifier             0.02               \n",
       "Census_FirmwareVersionIdentifier                  0.02               \n",
       "Firewall                                          0.01               \n",
       "Census_IsAlwaysOnAlwaysConnectedCapable           0.01               \n",
       "Census_InternalPrimaryDisplayResolutionVertical   0.01               \n",
       "Census_InternalPrimaryDisplayResolutionHorizontal 0.01               \n",
       "Census_TotalPhysicalRAM                           0.01               \n",
       "IeVerIdentifier                                   0.01               \n",
       "Census_OSInstallLanguageIdentifier                0.01               \n",
       "Census_InternalPrimaryDiagonalDisplaySizeInInches 0.01               \n",
       "Census_PrimaryDiskTotalCapacity                   0.01               \n",
       "Census_OEMNameIdentifier                          0.01               \n",
       "Census_OEMModelIdentifier                         0.01               \n",
       "Census_SystemVolumeTotalCapacity                  0.01               \n",
       "IsBeta                                            0.00               \n",
       "AutoSampleOptIn                                   0.00               \n",
       "PuaMode                                           0.00               \n",
       "Census_DeviceFamily                               0.00               \n",
       "Census_ProcessorClass                             0.00               \n",
       "...                                               ...                \n",
       "Census_PrimaryDiskTypeName                        0                  \n",
       "Census_MDC2FormFactor                             0                  \n",
       "OsSuite                                           0                  \n",
       "SkuEdition                                        0                  \n",
       "Census_ProcessorCoreCount                         0                  \n",
       "Census_ChassisTypeName                            0                  \n",
       "AppVersion                                        0                  \n",
       "Census_ActivationChannel                          0                  \n",
       "Census_IsSecureBootEnabled                        0                  \n",
       "HasDetections                                     0                  \n",
       "SmartScreen                                       0                  \n",
       "Census_OSBranch                                   0                  \n",
       "Census_OSBuildNumber                              0                  \n",
       "OsBuild                                           0                  \n",
       "OsPlatformSubRelease                              0                  \n",
       "Census_OSWUAutoUpdateOptionsName                  0                  \n",
       "EngineVersion                                     0                  \n",
       "OsBuildLab                                        0                  \n",
       "Census_OSEdition                                  0                  \n",
       "Census_OSSkuName                                  0                  \n",
       "Census_OSUILocaleIdentifier                       0                  \n",
       "Census_OSInstallTypeName                          0                  \n",
       "LocaleEnglishNameIdentifier                       0                  \n",
       "GeoNameIdentifier                                 0                  \n",
       "Census_OSVersion                                  0                  \n",
       "Census_OSBuildRevision                            0                  \n",
       "CountryIdentifier                                 0                  \n",
       "Census_ProcessorModelIdentifier                   0                  \n",
       "AvSigVersion                                      0                  \n",
       "MachineIdentifier                                 0                  \n",
       "                                                  perc_biggest_category type   \n",
       "DefaultBrowsersIdentifier                         0.01                  integer\n",
       "Census_IsFlightingInternal                        0.17                  integer\n",
       "Census_ThresholdOptIn                             0.37                  integer\n",
       "Census_IsWIMBootEnabled                           0.37                  integer\n",
       "OrganizationIdentifier                            0.47                  integer\n",
       "SMode                                             0.94                  integer\n",
       "CityIdentifier                                    0.01                  integer\n",
       "Wdft_IsGamer                                      0.69                  integer\n",
       "Census_InternalBatteryNumberOfCharges             0.57                  numeric\n",
       "Wdft_RegionIdentifier                             0.20                  integer\n",
       "Census_IsFlightsDisabled                          0.98                  integer\n",
       "Census_FirmwareManufacturerIdentifier             0.30                  integer\n",
       "Census_FirmwareVersionIdentifier                  0.01                  integer\n",
       "Firewall                                          0.97                  integer\n",
       "Census_IsAlwaysOnAlwaysConnectedCapable           0.94                  integer\n",
       "Census_InternalPrimaryDisplayResolutionVertical   0.56                  integer\n",
       "Census_InternalPrimaryDisplayResolutionHorizontal 0.51                  integer\n",
       "Census_TotalPhysicalRAM                           0.46                  integer\n",
       "IeVerIdentifier                                   0.44                  integer\n",
       "Census_OSInstallLanguageIdentifier                0.36                  integer\n",
       "Census_InternalPrimaryDiagonalDisplaySizeInInches 0.34                  numeric\n",
       "Census_PrimaryDiskTotalCapacity                   0.32                  numeric\n",
       "Census_OEMNameIdentifier                          0.14                  integer\n",
       "Census_OEMModelIdentifier                         0.03                  integer\n",
       "Census_SystemVolumeTotalCapacity                  0.01                  integer\n",
       "IsBeta                                            1.00                  integer\n",
       "AutoSampleOptIn                                   1.00                  integer\n",
       "PuaMode                                           1.00                  factor \n",
       "Census_DeviceFamily                               1.00                  factor \n",
       "Census_ProcessorClass                             1.00                  factor \n",
       "...                                               ...                   ...    \n",
       "Census_PrimaryDiskTypeName                        0.65                  factor \n",
       "Census_MDC2FormFactor                             0.64                  factor \n",
       "OsSuite                                           0.62                  integer\n",
       "SkuEdition                                        0.62                  factor \n",
       "Census_ProcessorCoreCount                         0.61                  integer\n",
       "Census_ChassisTypeName                            0.59                  factor \n",
       "AppVersion                                        0.58                  factor \n",
       "Census_ActivationChannel                          0.53                  factor \n",
       "Census_IsSecureBootEnabled                        0.52                  integer\n",
       "HasDetections                                     0.50                  integer\n",
       "SmartScreen                                       0.48                  factor \n",
       "Census_OSBranch                                   0.45                  factor \n",
       "Census_OSBuildNumber                              0.45                  integer\n",
       "OsBuild                                           0.44                  integer\n",
       "OsPlatformSubRelease                              0.44                  factor \n",
       "Census_OSWUAutoUpdateOptionsName                  0.44                  factor \n",
       "EngineVersion                                     0.43                  factor \n",
       "OsBuildLab                                        0.41                  factor \n",
       "Census_OSEdition                                  0.39                  factor \n",
       "Census_OSSkuName                                  0.39                  factor \n",
       "Census_OSUILocaleIdentifier                       0.36                  integer\n",
       "Census_OSInstallTypeName                          0.29                  factor \n",
       "LocaleEnglishNameIdentifier                       0.24                  integer\n",
       "GeoNameIdentifier                                 0.17                  integer\n",
       "Census_OSVersion                                  0.16                  factor \n",
       "Census_OSBuildRevision                            0.16                  integer\n",
       "CountryIdentifier                                 0.05                  integer\n",
       "Census_ProcessorModelIdentifier                   0.03                  integer\n",
       "AvSigVersion                                      0.01                  factor \n",
       "MachineIdentifier                                 0.00                  factor "
      ]
     },
     "metadata": {},
     "output_type": "display_data"
    }
   ],
   "source": [
    "df"
   ]
  },
  {
   "cell_type": "markdown",
   "metadata": {},
   "source": [
    "The variable DefaultBrowsersIdentifier have +90% missing values, which means that these column is useless and should be dropped. Also, other variables have +50% missing values, we will remove them.We can observe in some variables that one category contains more than +90% of the total values, we will remove these imbalanced columns, take into the account that our target variable is balanced."
   ]
  },
  {
   "cell_type": "code",
   "execution_count": 16,
   "metadata": {},
   "outputs": [],
   "source": [
    "newdf <- df[(df[\"perc_biggest_category\"]<=0.9)&(df[\"perc_missing_values\"]<=0.5),]"
   ]
  },
  {
   "cell_type": "code",
   "execution_count": 17,
   "metadata": {},
   "outputs": [],
   "source": [
    "variables<-rownames(newdf)\n",
    "train_red<-train[,variables]"
   ]
  },
  {
   "cell_type": "markdown",
   "metadata": {},
   "source": [
    "Most of the variables are type numeric or integers however, looking at their unique values it seems that they could be treated as categorical variables. The variables with missing values will be filling as \"no_info\""
   ]
  },
  {
   "cell_type": "code",
   "execution_count": 18,
   "metadata": {},
   "outputs": [],
   "source": [
    "train_red[is.na(train_red)] <- 'no_info'"
   ]
  },
  {
   "cell_type": "code",
   "execution_count": 19,
   "metadata": {},
   "outputs": [
    {
     "data": {
      "text/html": [
       "<table>\n",
       "<thead><tr><th scope=col>OrganizationIdentifier</th><th scope=col>CityIdentifier</th><th scope=col>Wdft_IsGamer</th><th scope=col>Census_InternalBatteryNumberOfCharges</th><th scope=col>Wdft_RegionIdentifier</th><th scope=col>Census_FirmwareManufacturerIdentifier</th><th scope=col>Census_FirmwareVersionIdentifier</th><th scope=col>Census_InternalPrimaryDisplayResolutionVertical</th><th scope=col>Census_InternalPrimaryDisplayResolutionHorizontal</th><th scope=col>Census_TotalPhysicalRAM</th><th scope=col>...</th><th scope=col>Census_OSUILocaleIdentifier</th><th scope=col>Census_OSInstallTypeName</th><th scope=col>LocaleEnglishNameIdentifier</th><th scope=col>GeoNameIdentifier</th><th scope=col>Census_OSVersion</th><th scope=col>Census_OSBuildRevision</th><th scope=col>CountryIdentifier</th><th scope=col>Census_ProcessorModelIdentifier</th><th scope=col>AvSigVersion</th><th scope=col>MachineIdentifier</th></tr></thead>\n",
       "<tbody>\n",
       "\t<tr><td>no_info                         </td><td>153669                          </td><td>0                               </td><td>0                               </td><td>3                               </td><td>142                             </td><td>42130                           </td><td>768                             </td><td>1366                            </td><td>3072                            </td><td>...                             </td><td> 11                             </td><td>UUPUpgrade                      </td><td> 34                             </td><td>39                              </td><td>10.0.17134.48                   </td><td> 48                             </td><td> 21                             </td><td>2055                            </td><td>1.269.1000.0                    </td><td>b17311335a5a2b3b709597a2bd3b0e13</td></tr>\n",
       "\t<tr><td>27                              </td><td>5113                            </td><td>0                               </td><td>0                               </td><td>15                              </td><td>897                             </td><td>9296                            </td><td>945                             </td><td>1680                            </td><td>6144                            </td><td>...                             </td><td>109                             </td><td>UUPUpgrade                      </td><td> 55                             </td><td>24                              </td><td>10.0.16299.125                  </td><td>125                             </td><td> 19                             </td><td>2457                            </td><td>1.275.687.0                     </td><td>134b2d2ad43e5a2b8572447863033bcb</td></tr>\n",
       "\t<tr><td>no_info                         </td><td>87570                           </td><td>0                               </td><td>0                               </td><td>1                               </td><td>554                             </td><td>33103                           </td><td>768                             </td><td>1366                            </td><td>4096                            </td><td>...                             </td><td> 31                             </td><td>Other                           </td><td> 75                             </td><td>158                             </td><td>10.0.16299.371                  </td><td>371                             </td><td>139                             </td><td>1998                            </td><td>1.273.309.0                     </td><td>a8225b2bd182f400f517e959b1221e99</td></tr>\n",
       "\t<tr><td>27                              </td><td>3137                            </td><td>0                               </td><td>4294967295                      </td><td>3                               </td><td>628                             </td><td>50302                           </td><td>900                             </td><td>1440                            </td><td>4096                            </td><td>...                             </td><td>125                             </td><td>Upgrade                         </td><td>182                             </td><td>211                             </td><td>10.0.17134.228                  </td><td>228                             </td><td>110                             </td><td>2094                            </td><td>1.275.230.0                     </td><td>624c5478a184517f786dba122df164eb</td></tr>\n",
       "\t<tr><td>27                              </td><td>100788                          </td><td>1                               </td><td>4294967295                      </td><td>12                              </td><td>142                             </td><td>56711                           </td><td>1080                            </td><td>1920                            </td><td>12288                           </td><td>...                             </td><td> 30                             </td><td>Clean                           </td><td> 74                             </td><td>276                             </td><td>10.0.17134.228                  </td><td>228                             </td><td> 68                             </td><td>2673                            </td><td>1.273.1620.0                    </td><td>b6cb201455818a249f05f1bc59240d79</td></tr>\n",
       "\t<tr><td>no_info                         </td><td>75425                           </td><td>0                               </td><td>0                               </td><td>11                              </td><td>554                             </td><td>33054                           </td><td>1080                            </td><td>1920                            </td><td>12288                           </td><td>...                             </td><td> 30                             </td><td>Other                           </td><td> 74                             </td><td>224                             </td><td>10.0.15063.483                  </td><td>483                             </td><td>108                             </td><td>3063                            </td><td>1.237.0.0                       </td><td>cab997f1b99144e150926d60a2c08ee6</td></tr>\n",
       "</tbody>\n",
       "</table>\n"
      ],
      "text/latex": [
       "\\begin{tabular}{r|llllllllllllllllllllllllllllllllllllllllllllllllllllll}\n",
       " OrganizationIdentifier & CityIdentifier & Wdft\\_IsGamer & Census\\_InternalBatteryNumberOfCharges & Wdft\\_RegionIdentifier & Census\\_FirmwareManufacturerIdentifier & Census\\_FirmwareVersionIdentifier & Census\\_InternalPrimaryDisplayResolutionVertical & Census\\_InternalPrimaryDisplayResolutionHorizontal & Census\\_TotalPhysicalRAM & ... & Census\\_OSUILocaleIdentifier & Census\\_OSInstallTypeName & LocaleEnglishNameIdentifier & GeoNameIdentifier & Census\\_OSVersion & Census\\_OSBuildRevision & CountryIdentifier & Census\\_ProcessorModelIdentifier & AvSigVersion & MachineIdentifier\\\\\n",
       "\\hline\n",
       "\t no\\_info                        & 153669                           & 0                                & 0                                & 3                                & 142                              & 42130                            & 768                              & 1366                             & 3072                             & ...                              &  11                              & UUPUpgrade                       &  34                              & 39                               & 10.0.17134.48                    &  48                              &  21                              & 2055                             & 1.269.1000.0                     & b17311335a5a2b3b709597a2bd3b0e13\\\\\n",
       "\t 27                               & 5113                             & 0                                & 0                                & 15                               & 897                              & 9296                             & 945                              & 1680                             & 6144                             & ...                              & 109                              & UUPUpgrade                       &  55                              & 24                               & 10.0.16299.125                   & 125                              &  19                              & 2457                             & 1.275.687.0                      & 134b2d2ad43e5a2b8572447863033bcb\\\\\n",
       "\t no\\_info                        & 87570                            & 0                                & 0                                & 1                                & 554                              & 33103                            & 768                              & 1366                             & 4096                             & ...                              &  31                              & Other                            &  75                              & 158                              & 10.0.16299.371                   & 371                              & 139                              & 1998                             & 1.273.309.0                      & a8225b2bd182f400f517e959b1221e99\\\\\n",
       "\t 27                               & 3137                             & 0                                & 4294967295                       & 3                                & 628                              & 50302                            & 900                              & 1440                             & 4096                             & ...                              & 125                              & Upgrade                          & 182                              & 211                              & 10.0.17134.228                   & 228                              & 110                              & 2094                             & 1.275.230.0                      & 624c5478a184517f786dba122df164eb\\\\\n",
       "\t 27                               & 100788                           & 1                                & 4294967295                       & 12                               & 142                              & 56711                            & 1080                             & 1920                             & 12288                            & ...                              &  30                              & Clean                            &  74                              & 276                              & 10.0.17134.228                   & 228                              &  68                              & 2673                             & 1.273.1620.0                     & b6cb201455818a249f05f1bc59240d79\\\\\n",
       "\t no\\_info                        & 75425                            & 0                                & 0                                & 11                               & 554                              & 33054                            & 1080                             & 1920                             & 12288                            & ...                              &  30                              & Other                            &  74                              & 224                              & 10.0.15063.483                   & 483                              & 108                              & 3063                             & 1.237.0.0                        & cab997f1b99144e150926d60a2c08ee6\\\\\n",
       "\\end{tabular}\n"
      ],
      "text/markdown": [
       "\n",
       "| OrganizationIdentifier | CityIdentifier | Wdft_IsGamer | Census_InternalBatteryNumberOfCharges | Wdft_RegionIdentifier | Census_FirmwareManufacturerIdentifier | Census_FirmwareVersionIdentifier | Census_InternalPrimaryDisplayResolutionVertical | Census_InternalPrimaryDisplayResolutionHorizontal | Census_TotalPhysicalRAM | ... | Census_OSUILocaleIdentifier | Census_OSInstallTypeName | LocaleEnglishNameIdentifier | GeoNameIdentifier | Census_OSVersion | Census_OSBuildRevision | CountryIdentifier | Census_ProcessorModelIdentifier | AvSigVersion | MachineIdentifier |\n",
       "|---|---|---|---|---|---|---|---|---|---|---|---|---|---|---|---|---|---|---|---|---|\n",
       "| no_info                          | 153669                           | 0                                | 0                                | 3                                | 142                              | 42130                            | 768                              | 1366                             | 3072                             | ...                              |  11                              | UUPUpgrade                       |  34                              | 39                               | 10.0.17134.48                    |  48                              |  21                              | 2055                             | 1.269.1000.0                     | b17311335a5a2b3b709597a2bd3b0e13 |\n",
       "| 27                               | 5113                             | 0                                | 0                                | 15                               | 897                              | 9296                             | 945                              | 1680                             | 6144                             | ...                              | 109                              | UUPUpgrade                       |  55                              | 24                               | 10.0.16299.125                   | 125                              |  19                              | 2457                             | 1.275.687.0                      | 134b2d2ad43e5a2b8572447863033bcb |\n",
       "| no_info                          | 87570                            | 0                                | 0                                | 1                                | 554                              | 33103                            | 768                              | 1366                             | 4096                             | ...                              |  31                              | Other                            |  75                              | 158                              | 10.0.16299.371                   | 371                              | 139                              | 1998                             | 1.273.309.0                      | a8225b2bd182f400f517e959b1221e99 |\n",
       "| 27                               | 3137                             | 0                                | 4294967295                       | 3                                | 628                              | 50302                            | 900                              | 1440                             | 4096                             | ...                              | 125                              | Upgrade                          | 182                              | 211                              | 10.0.17134.228                   | 228                              | 110                              | 2094                             | 1.275.230.0                      | 624c5478a184517f786dba122df164eb |\n",
       "| 27                               | 100788                           | 1                                | 4294967295                       | 12                               | 142                              | 56711                            | 1080                             | 1920                             | 12288                            | ...                              |  30                              | Clean                            |  74                              | 276                              | 10.0.17134.228                   | 228                              |  68                              | 2673                             | 1.273.1620.0                     | b6cb201455818a249f05f1bc59240d79 |\n",
       "| no_info                          | 75425                            | 0                                | 0                                | 11                               | 554                              | 33054                            | 1080                             | 1920                             | 12288                            | ...                              |  30                              | Other                            |  74                              | 224                              | 10.0.15063.483                   | 483                              | 108                              | 3063                             | 1.237.0.0                        | cab997f1b99144e150926d60a2c08ee6 |\n",
       "\n"
      ],
      "text/plain": [
       "  OrganizationIdentifier CityIdentifier Wdft_IsGamer\n",
       "1 no_info                153669         0           \n",
       "2 27                     5113           0           \n",
       "3 no_info                87570          0           \n",
       "4 27                     3137           0           \n",
       "5 27                     100788         1           \n",
       "6 no_info                75425          0           \n",
       "  Census_InternalBatteryNumberOfCharges Wdft_RegionIdentifier\n",
       "1 0                                     3                    \n",
       "2 0                                     15                   \n",
       "3 0                                     1                    \n",
       "4 4294967295                            3                    \n",
       "5 4294967295                            12                   \n",
       "6 0                                     11                   \n",
       "  Census_FirmwareManufacturerIdentifier Census_FirmwareVersionIdentifier\n",
       "1 142                                   42130                           \n",
       "2 897                                   9296                            \n",
       "3 554                                   33103                           \n",
       "4 628                                   50302                           \n",
       "5 142                                   56711                           \n",
       "6 554                                   33054                           \n",
       "  Census_InternalPrimaryDisplayResolutionVertical\n",
       "1 768                                            \n",
       "2 945                                            \n",
       "3 768                                            \n",
       "4 900                                            \n",
       "5 1080                                           \n",
       "6 1080                                           \n",
       "  Census_InternalPrimaryDisplayResolutionHorizontal Census_TotalPhysicalRAM ...\n",
       "1 1366                                              3072                    ...\n",
       "2 1680                                              6144                    ...\n",
       "3 1366                                              4096                    ...\n",
       "4 1440                                              4096                    ...\n",
       "5 1920                                              12288                   ...\n",
       "6 1920                                              12288                   ...\n",
       "  Census_OSUILocaleIdentifier Census_OSInstallTypeName\n",
       "1  11                         UUPUpgrade              \n",
       "2 109                         UUPUpgrade              \n",
       "3  31                         Other                   \n",
       "4 125                         Upgrade                 \n",
       "5  30                         Clean                   \n",
       "6  30                         Other                   \n",
       "  LocaleEnglishNameIdentifier GeoNameIdentifier Census_OSVersion\n",
       "1  34                         39                10.0.17134.48   \n",
       "2  55                         24                10.0.16299.125  \n",
       "3  75                         158               10.0.16299.371  \n",
       "4 182                         211               10.0.17134.228  \n",
       "5  74                         276               10.0.17134.228  \n",
       "6  74                         224               10.0.15063.483  \n",
       "  Census_OSBuildRevision CountryIdentifier Census_ProcessorModelIdentifier\n",
       "1  48                     21               2055                           \n",
       "2 125                     19               2457                           \n",
       "3 371                    139               1998                           \n",
       "4 228                    110               2094                           \n",
       "5 228                     68               2673                           \n",
       "6 483                    108               3063                           \n",
       "  AvSigVersion MachineIdentifier               \n",
       "1 1.269.1000.0 b17311335a5a2b3b709597a2bd3b0e13\n",
       "2 1.275.687.0  134b2d2ad43e5a2b8572447863033bcb\n",
       "3 1.273.309.0  a8225b2bd182f400f517e959b1221e99\n",
       "4 1.275.230.0  624c5478a184517f786dba122df164eb\n",
       "5 1.273.1620.0 b6cb201455818a249f05f1bc59240d79\n",
       "6 1.237.0.0    cab997f1b99144e150926d60a2c08ee6"
      ]
     },
     "metadata": {},
     "output_type": "display_data"
    }
   ],
   "source": [
    "head(train_red)"
   ]
  },
  {
   "cell_type": "code",
   "execution_count": 20,
   "metadata": {},
   "outputs": [],
   "source": [
    "# Converting as factor all variables except MachineIdentifier\n",
    "train_red[\"MachineIdentifier\"]<-as.character(train_red$MachineIdentifier)"
   ]
  },
  {
   "cell_type": "code",
   "execution_count": 21,
   "metadata": {},
   "outputs": [],
   "source": [
    "for (i in colnames(train_red)){\n",
    "    if (i!= \"MachineIdentifier\"){\n",
    "        train_red[i] <- as.factor(train_red[[i]])\n",
    "    }\n",
    "    \n",
    "}"
   ]
  },
  {
   "cell_type": "code",
   "execution_count": 22,
   "metadata": {},
   "outputs": [
    {
     "name": "stdout",
     "output_type": "stream",
     "text": [
      "'data.frame':\t447000 obs. of  54 variables:\n",
      " $ OrganizationIdentifier                           : Factor w/ 46 levels \"1\",\"10\",\"11\",..: 46 16 46 16 16 46 16 16 8 46 ...\n",
      " $ CityIdentifier                                   : Factor w/ 35053 levels \"100000\",\"100004\",..: 12598 23662 32116 19411 165 29460 31005 31559 10122 35053 ...\n",
      " $ Wdft_IsGamer                                     : Factor w/ 3 levels \"0\",\"1\",\"no_info\": 1 1 1 1 2 1 1 2 2 1 ...\n",
      " $ Census_InternalBatteryNumberOfCharges            : Factor w/ 4797 levels \"0\",\"1\",\"10\",\"100\",..: 1 1 1 2727 2727 1 2727 2727 2154 2727 ...\n",
      " $ Wdft_RegionIdentifier                            : Factor w/ 16 levels \"1\",\"10\",\"11\",..: 9 7 1 9 4 3 7 9 1 7 ...\n",
      " $ Census_FirmwareManufacturerIdentifier            : Factor w/ 306 levels \"1005\",\"1006\",..: 39 289 167 194 39 167 39 39 39 39 ...\n",
      " $ Census_FirmwareVersionIdentifier                 : Factor w/ 22622 levels \"10003\",\"10011\",..: 10944 22315 7510 13844 16093 7488 5158 18142 20311 309 ...\n",
      " $ Census_InternalPrimaryDisplayResolutionVertical  : Factor w/ 467 levels \"-1\",\"1000\",\"1002\",..: 321 423 321 392 48 48 34 34 48 48 ...\n",
      " $ Census_InternalPrimaryDisplayResolutionHorizontal: Factor w/ 421 levels \"-1\",\"1010\",\"1016\",..: 110 199 110 131 266 266 199 199 266 266 ...\n",
      " $ Census_TotalPhysicalRAM                          : Factor w/ 521 levels \"1000\",\"10128\",..: 222 423 331 331 42 42 331 504 331 504 ...\n",
      " $ IeVerIdentifier                                  : Factor w/ 183 levels \"1\",\"10\",\"102\",..: 14 8 10 14 14 5 8 10 14 14 ...\n",
      " $ Census_OSInstallLanguageIdentifier               : Factor w/ 40 levels \"1\",\"10\",\"11\",..: 12 17 38 22 37 37 35 18 38 17 ...\n",
      " $ Census_InternalPrimaryDiagonalDisplaySizeInInches: Factor w/ 509 levels \"10\",\"10.1\",\"10.2\",..: 63 93 21 148 123 63 128 131 63 123 ...\n",
      " $ Census_PrimaryDiskTotalCapacity                  : Factor w/ 1043 levels \"0\",\"1001562\",..: 517 724 484 724 457 411 724 724 724 350 ...\n",
      " $ Census_OEMNameIdentifier                         : Factor w/ 1577 levels \"1\",\"1001\",\"1002\",..: 1290 1112 328 534 1437 328 1282 637 1271 1069 ...\n",
      " $ Census_OEMModelIdentifier                        : Factor w/ 38319 levels \"100004\",\"100010\",..: 17649 24125 16576 12441 8956 16037 18437 18896 31245 27205 ...\n",
      " $ Census_SystemVolumeTotalCapacity                 : Factor w/ 131902 levels \"0\",\"100000\",\"1000000\",..: 911 41037 51514 1735 15682 44104 88052 91546 110367 36505 ...\n",
      " $ Census_ProcessorManufacturerIdentifier           : Factor w/ 5 levels \"1\",\"10\",\"3\",\"5\",..: 4 4 4 4 4 4 1 1 4 4 ...\n",
      " $ Census_GenuineStateName                          : Factor w/ 5 levels \"INVALID_LICENSE\",..: 1 2 2 2 2 2 2 1 2 2 ...\n",
      " $ Census_IsTouchEnabled                            : Factor w/ 2 levels \"0\",\"1\": 1 1 1 1 1 1 1 1 1 1 ...\n",
      " $ Census_InternalBatteryType                       : Factor w/ 43 levels \"\",\"\\004ion\",\"\\004lio\",..: 1 1 1 1 1 1 1 1 1 1 ...\n",
      " $ AVProductsInstalled                              : Factor w/ 7 levels \"1\",\"2\",\"3\",\"4\",..: 1 1 2 2 1 2 1 1 2 1 ...\n",
      " $ Census_PowerPlatformRoleName                     : Factor w/ 11 levels \"\",\"AppliancePC\",..: 5 5 5 3 3 5 3 3 5 3 ...\n",
      " $ AVProductStatesIdentifier                        : Factor w/ 5137 levels \"10017\",\"10043\",..: 3353 3353 2732 2732 3353 4104 3353 3353 859 3353 ...\n",
      " $ Census_PrimaryDiskTypeName                       : Factor w/ 5 levels \"\",\"HDD\",\"SSD\",..: 2 2 3 2 2 3 5 4 2 3 ...\n",
      " $ Census_MDC2FormFactor                            : Factor w/ 12 levels \"AllInOne\",\"Convertible\",..: 8 8 8 1 3 8 3 3 8 3 ...\n",
      " $ OsSuite                                          : Factor w/ 9 levels \"16\",\"144\",\"256\",..: 3 8 8 8 8 8 8 8 8 8 ...\n",
      " $ SkuEdition                                       : Factor w/ 8 levels \"Cloud\",\"Education\",..: 7 5 5 5 5 5 5 5 5 5 ...\n",
      " $ Census_ProcessorCoreCount                        : Factor w/ 26 levels \"1\",\"10\",\"112\",..: 8 16 8 8 16 16 16 22 16 16 ...\n",
      " $ Census_ChassisTypeName                           : Factor w/ 39 levels \"\",\"0\",\"127\",\"30\",..: 26 26 26 9 15 26 15 15 26 15 ...\n",
      " $ AppVersion                                       : Factor w/ 102 levels \"4.10.14393.0\",..: 44 44 21 57 57 18 57 57 27 57 ...\n",
      " $ Census_ActivationChannel                         : Factor w/ 6 levels \"OEM:DM\",\"OEM:NONSLP\",..: 3 3 1 1 1 1 3 3 3 2 ...\n",
      " $ Census_IsSecureBootEnabled                       : Factor w/ 2 levels \"0\",\"1\": 1 1 2 2 2 2 1 1 2 1 ...\n",
      " $ HasDetections                                    : Factor w/ 2 levels \"0\",\"1\": 1 2 2 2 1 2 2 2 1 1 ...\n",
      " $ SmartScreen                                      : Factor w/ 17 levels \"\",\"&#x01;\",\"&#x02;\",..: 1 15 7 15 1 1 7 15 17 1 ...\n",
      " $ Census_OSBranch                                  : Factor w/ 22 levels \"Khmer OS\",\"rs_prerelease\",..: 11 8 8 11 11 7 8 8 11 11 ...\n",
      " $ Census_OSBuildNumber                             : Factor w/ 61 levels \"7601\",\"10240\",..: 22 17 17 22 22 12 17 17 22 22 ...\n",
      " $ OsBuild                                          : Factor w/ 49 levels \"7600\",\"7601\",..: 9 8 8 9 9 7 8 8 9 9 ...\n",
      " $ OsPlatformSubRelease                             : Factor w/ 9 levels \"prers5\",\"rs1\",..: 5 4 4 5 5 3 4 4 5 5 ...\n",
      " $ Census_OSWUAutoUpdateOptionsName                 : Factor w/ 6 levels \"AutoInstallAndRebootAtMaintenanceTime\",..: 6 4 6 3 3 4 4 6 3 3 ...\n",
      " $ EngineVersion                                    : Factor w/ 59 levels \"1.1.11104.0\",..: 52 56 55 56 55 22 55 55 55 55 ...\n",
      " $ OsBuildLab                                       : Factor w/ 535 levels \"\",\"10240.16384.amd64fre.th1.150709-1700\",..: 238 229 229 238 238 225 229 229 238 238 ...\n",
      " $ Census_OSEdition                                 : Factor w/ 25 levels \"Cloud\",\"Core\",..: 13 2 2 5 2 2 2 2 5 2 ...\n",
      " $ Census_OSSkuName                                 : Factor w/ 23 levels \"CLOUD\",\"CORE\",..: 17 2 2 5 2 2 2 2 5 2 ...\n",
      " $ Census_OSUILocaleIdentifier                      : Factor w/ 91 levels \"5\",\"6\",\"7\",\"9\",..: 5 58 19 69 18 18 14 61 19 58 ...\n",
      " $ Census_OSInstallTypeName                         : Factor w/ 9 levels \"Clean\",\"CleanPCRefresh\",..: 9 9 4 8 1 4 9 8 2 9 ...\n",
      " $ LocaleEnglishNameIdentifier                      : Factor w/ 239 levels \"1\",\"2\",\"3\",\"4\",..: 31 49 68 161 67 67 94 149 235 50 ...\n",
      " $ GeoNameIdentifier                                : Factor w/ 267 levels \"1\",\"10\",\"100\",..: 207 143 58 115 178 126 60 108 188 84 ...\n",
      " $ Census_OSVersion                                 : Factor w/ 353 levels \"10.0.10240.16384\",..: 292 240 252 287 287 211 244 252 283 287 ...\n",
      " $ Census_OSBuildRevision                           : Factor w/ 237 levels \"0\",\"1\",\"3\",\"4\",..: 15 33 66 48 48 77 41 66 37 48 ...\n",
      " $ CountryIdentifier                                : Factor w/ 222 levels \"1\",\"2\",\"3\",\"4\",..: 21 19 139 110 68 108 11 160 214 149 ...\n",
      " $ Census_ProcessorModelIdentifier                  : Factor w/ 2223 levels \"100\",\"1006\",\"1009\",..: 575 799 536 611 954 1197 116 2166 774 975 ...\n",
      " $ AvSigVersion                                     : Factor w/ 7864 levels \"0.0.0.0\",\"1.155.266.0\",..: 6284 7731 7177 7566 7085 2175 7296 7069 7081 7044 ...\n",
      " $ MachineIdentifier                                : chr  \"b17311335a5a2b3b709597a2bd3b0e13\" \"134b2d2ad43e5a2b8572447863033bcb\" \"a8225b2bd182f400f517e959b1221e99\" \"624c5478a184517f786dba122df164eb\" ...\n"
     ]
    }
   ],
   "source": [
    "str(train_red)"
   ]
  },
  {
   "cell_type": "markdown",
   "metadata": {},
   "source": [
    "We will exclude the categorical variables with more than 400 levels. Computing dummy variables in these variables or performance a grouped process is computer expensive and R does not support it. The variable Census_SystemVolumeTotalCapacity could be convert into numerical, it has a lot of levels and there is not missing values."
   ]
  },
  {
   "cell_type": "code",
   "execution_count": 23,
   "metadata": {},
   "outputs": [],
   "source": [
    "v_list<-list()\n",
    "for (i in colnames(train_red)){\n",
    "    if (length(levels(train_red[[i]])) <400)\n",
    "     v_list=list.append(v_list,i)   \n",
    "}\n",
    "v_list<-unlist(v_list)"
   ]
  },
  {
   "cell_type": "code",
   "execution_count": 24,
   "metadata": {},
   "outputs": [],
   "source": [
    "# Get the IV and DV list name\n",
    "# Dependent variable (DV)\n",
    "dv_list <- c('HasDetections')\n",
    "# Independent variable (IV)\n",
    "iv_list <- setdiff(v_list, dv_list)  # Exclude the target variable\n",
    "iv_list <- setdiff(iv_list, 'MachineIdentifier')  # Exclude the MachineIdentifier"
   ]
  },
  {
   "cell_type": "code",
   "execution_count": 25,
   "metadata": {},
   "outputs": [],
   "source": [
    "trainRed <- train_red[,c('MachineIdentifier','HasDetections',iv_list)]"
   ]
  },
  {
   "cell_type": "code",
   "execution_count": 26,
   "metadata": {},
   "outputs": [],
   "source": [
    "trainRed$Census_SystemVolumeTotalCapacity <- as.numeric(train_red$Census_SystemVolumeTotalCapacity)"
   ]
  },
  {
   "cell_type": "code",
   "execution_count": 27,
   "metadata": {},
   "outputs": [
    {
     "data": {
      "text/html": [
       "<table>\n",
       "<thead><tr><th scope=col>MachineIdentifier</th><th scope=col>HasDetections</th><th scope=col>OrganizationIdentifier</th><th scope=col>Wdft_IsGamer</th><th scope=col>Wdft_RegionIdentifier</th><th scope=col>Census_FirmwareManufacturerIdentifier</th><th scope=col>IeVerIdentifier</th><th scope=col>Census_OSInstallLanguageIdentifier</th><th scope=col>Census_ProcessorManufacturerIdentifier</th><th scope=col>Census_GenuineStateName</th><th scope=col>...</th><th scope=col>Census_OSEdition</th><th scope=col>Census_OSSkuName</th><th scope=col>Census_OSUILocaleIdentifier</th><th scope=col>Census_OSInstallTypeName</th><th scope=col>LocaleEnglishNameIdentifier</th><th scope=col>GeoNameIdentifier</th><th scope=col>Census_OSVersion</th><th scope=col>Census_OSBuildRevision</th><th scope=col>CountryIdentifier</th><th scope=col>Census_SystemVolumeTotalCapacity</th></tr></thead>\n",
       "<tbody>\n",
       "\t<tr><td>b17311335a5a2b3b709597a2bd3b0e13</td><td>0                               </td><td>no_info                         </td><td>0                               </td><td>3                               </td><td>142                             </td><td>137                             </td><td>2                               </td><td>5                               </td><td>INVALID_LICENSE                 </td><td>...                             </td><td>Professional                    </td><td>PROFESSIONAL                    </td><td>11                              </td><td>UUPUpgrade                      </td><td>34                              </td><td>39                              </td><td>10.0.17134.48                   </td><td>48                              </td><td>21                              </td><td>  911                           </td></tr>\n",
       "\t<tr><td>134b2d2ad43e5a2b8572447863033bcb</td><td>1                               </td><td>27                              </td><td>0                               </td><td>15                              </td><td>897                             </td><td>111                             </td><td>24                              </td><td>5                               </td><td>IS_GENUINE                      </td><td>...                             </td><td>Core                            </td><td>CORE                            </td><td>109                             </td><td>UUPUpgrade                      </td><td>55                              </td><td>24                              </td><td>10.0.16299.125                  </td><td>125                             </td><td>19                              </td><td>41037                           </td></tr>\n",
       "\t<tr><td>a8225b2bd182f400f517e959b1221e99</td><td>1                               </td><td>no_info                         </td><td>0                               </td><td>1                               </td><td>554                             </td><td>117                             </td><td>8                               </td><td>5                               </td><td>IS_GENUINE                      </td><td>...                             </td><td>Core                            </td><td>CORE                            </td><td>31                              </td><td>Other                           </td><td>75                              </td><td>158                             </td><td>10.0.16299.371                  </td><td>371                             </td><td>139                             </td><td>51514                           </td></tr>\n",
       "\t<tr><td>624c5478a184517f786dba122df164eb</td><td>1                               </td><td>27                              </td><td>0                               </td><td>3                               </td><td>628                             </td><td>137                             </td><td>29                              </td><td>5                               </td><td>IS_GENUINE                      </td><td>...                             </td><td>CoreSingleLanguage              </td><td>CORE_SINGLELANGUAGE             </td><td>125                             </td><td>Upgrade                         </td><td>182                             </td><td>211                             </td><td>10.0.17134.228                  </td><td>228                             </td><td>110                             </td><td> 1735                           </td></tr>\n",
       "\t<tr><td>b6cb201455818a249f05f1bc59240d79</td><td>0                               </td><td>27                              </td><td>1                               </td><td>12                              </td><td>142                             </td><td>137                             </td><td>7                               </td><td>5                               </td><td>IS_GENUINE                      </td><td>...                             </td><td>Core                            </td><td>CORE                            </td><td>30                              </td><td>Clean                           </td><td>74                              </td><td>276                             </td><td>10.0.17134.228                  </td><td>228                             </td><td>68                              </td><td>15682                           </td></tr>\n",
       "\t<tr><td>cab997f1b99144e150926d60a2c08ee6</td><td>1                               </td><td>no_info                         </td><td>0                               </td><td>11                              </td><td>554                             </td><td>105                             </td><td>7                               </td><td>5                               </td><td>IS_GENUINE                      </td><td>...                             </td><td>Core                            </td><td>CORE                            </td><td>30                              </td><td>Other                           </td><td>74                              </td><td>224                             </td><td>10.0.15063.483                  </td><td>483                             </td><td>108                             </td><td>44104                           </td></tr>\n",
       "</tbody>\n",
       "</table>\n"
      ],
      "text/latex": [
       "\\begin{tabular}{r|llllllllllllllllllllllllllllllllllllllll}\n",
       " MachineIdentifier & HasDetections & OrganizationIdentifier & Wdft\\_IsGamer & Wdft\\_RegionIdentifier & Census\\_FirmwareManufacturerIdentifier & IeVerIdentifier & Census\\_OSInstallLanguageIdentifier & Census\\_ProcessorManufacturerIdentifier & Census\\_GenuineStateName & ... & Census\\_OSEdition & Census\\_OSSkuName & Census\\_OSUILocaleIdentifier & Census\\_OSInstallTypeName & LocaleEnglishNameIdentifier & GeoNameIdentifier & Census\\_OSVersion & Census\\_OSBuildRevision & CountryIdentifier & Census\\_SystemVolumeTotalCapacity\\\\\n",
       "\\hline\n",
       "\t b17311335a5a2b3b709597a2bd3b0e13 & 0                                & no\\_info                        & 0                                & 3                                & 142                              & 137                              & 2                                & 5                                & INVALID\\_LICENSE                & ...                              & Professional                     & PROFESSIONAL                     & 11                               & UUPUpgrade                       & 34                               & 39                               & 10.0.17134.48                    & 48                               & 21                               &   911                           \\\\\n",
       "\t 134b2d2ad43e5a2b8572447863033bcb & 1                                & 27                               & 0                                & 15                               & 897                              & 111                              & 24                               & 5                                & IS\\_GENUINE                     & ...                              & Core                             & CORE                             & 109                              & UUPUpgrade                       & 55                               & 24                               & 10.0.16299.125                   & 125                              & 19                               & 41037                           \\\\\n",
       "\t a8225b2bd182f400f517e959b1221e99 & 1                                & no\\_info                        & 0                                & 1                                & 554                              & 117                              & 8                                & 5                                & IS\\_GENUINE                     & ...                              & Core                             & CORE                             & 31                               & Other                            & 75                               & 158                              & 10.0.16299.371                   & 371                              & 139                              & 51514                           \\\\\n",
       "\t 624c5478a184517f786dba122df164eb & 1                                & 27                               & 0                                & 3                                & 628                              & 137                              & 29                               & 5                                & IS\\_GENUINE                     & ...                              & CoreSingleLanguage               & CORE\\_SINGLELANGUAGE            & 125                              & Upgrade                          & 182                              & 211                              & 10.0.17134.228                   & 228                              & 110                              &  1735                           \\\\\n",
       "\t b6cb201455818a249f05f1bc59240d79 & 0                                & 27                               & 1                                & 12                               & 142                              & 137                              & 7                                & 5                                & IS\\_GENUINE                     & ...                              & Core                             & CORE                             & 30                               & Clean                            & 74                               & 276                              & 10.0.17134.228                   & 228                              & 68                               & 15682                           \\\\\n",
       "\t cab997f1b99144e150926d60a2c08ee6 & 1                                & no\\_info                        & 0                                & 11                               & 554                              & 105                              & 7                                & 5                                & IS\\_GENUINE                     & ...                              & Core                             & CORE                             & 30                               & Other                            & 74                               & 224                              & 10.0.15063.483                   & 483                              & 108                              & 44104                           \\\\\n",
       "\\end{tabular}\n"
      ],
      "text/markdown": [
       "\n",
       "| MachineIdentifier | HasDetections | OrganizationIdentifier | Wdft_IsGamer | Wdft_RegionIdentifier | Census_FirmwareManufacturerIdentifier | IeVerIdentifier | Census_OSInstallLanguageIdentifier | Census_ProcessorManufacturerIdentifier | Census_GenuineStateName | ... | Census_OSEdition | Census_OSSkuName | Census_OSUILocaleIdentifier | Census_OSInstallTypeName | LocaleEnglishNameIdentifier | GeoNameIdentifier | Census_OSVersion | Census_OSBuildRevision | CountryIdentifier | Census_SystemVolumeTotalCapacity |\n",
       "|---|---|---|---|---|---|---|---|---|---|---|---|---|---|---|---|---|---|---|---|---|\n",
       "| b17311335a5a2b3b709597a2bd3b0e13 | 0                                | no_info                          | 0                                | 3                                | 142                              | 137                              | 2                                | 5                                | INVALID_LICENSE                  | ...                              | Professional                     | PROFESSIONAL                     | 11                               | UUPUpgrade                       | 34                               | 39                               | 10.0.17134.48                    | 48                               | 21                               |   911                            |\n",
       "| 134b2d2ad43e5a2b8572447863033bcb | 1                                | 27                               | 0                                | 15                               | 897                              | 111                              | 24                               | 5                                | IS_GENUINE                       | ...                              | Core                             | CORE                             | 109                              | UUPUpgrade                       | 55                               | 24                               | 10.0.16299.125                   | 125                              | 19                               | 41037                            |\n",
       "| a8225b2bd182f400f517e959b1221e99 | 1                                | no_info                          | 0                                | 1                                | 554                              | 117                              | 8                                | 5                                | IS_GENUINE                       | ...                              | Core                             | CORE                             | 31                               | Other                            | 75                               | 158                              | 10.0.16299.371                   | 371                              | 139                              | 51514                            |\n",
       "| 624c5478a184517f786dba122df164eb | 1                                | 27                               | 0                                | 3                                | 628                              | 137                              | 29                               | 5                                | IS_GENUINE                       | ...                              | CoreSingleLanguage               | CORE_SINGLELANGUAGE              | 125                              | Upgrade                          | 182                              | 211                              | 10.0.17134.228                   | 228                              | 110                              |  1735                            |\n",
       "| b6cb201455818a249f05f1bc59240d79 | 0                                | 27                               | 1                                | 12                               | 142                              | 137                              | 7                                | 5                                | IS_GENUINE                       | ...                              | Core                             | CORE                             | 30                               | Clean                            | 74                               | 276                              | 10.0.17134.228                   | 228                              | 68                               | 15682                            |\n",
       "| cab997f1b99144e150926d60a2c08ee6 | 1                                | no_info                          | 0                                | 11                               | 554                              | 105                              | 7                                | 5                                | IS_GENUINE                       | ...                              | Core                             | CORE                             | 30                               | Other                            | 74                               | 224                              | 10.0.15063.483                   | 483                              | 108                              | 44104                            |\n",
       "\n"
      ],
      "text/plain": [
       "  MachineIdentifier                HasDetections OrganizationIdentifier\n",
       "1 b17311335a5a2b3b709597a2bd3b0e13 0             no_info               \n",
       "2 134b2d2ad43e5a2b8572447863033bcb 1             27                    \n",
       "3 a8225b2bd182f400f517e959b1221e99 1             no_info               \n",
       "4 624c5478a184517f786dba122df164eb 1             27                    \n",
       "5 b6cb201455818a249f05f1bc59240d79 0             27                    \n",
       "6 cab997f1b99144e150926d60a2c08ee6 1             no_info               \n",
       "  Wdft_IsGamer Wdft_RegionIdentifier Census_FirmwareManufacturerIdentifier\n",
       "1 0            3                     142                                  \n",
       "2 0            15                    897                                  \n",
       "3 0            1                     554                                  \n",
       "4 0            3                     628                                  \n",
       "5 1            12                    142                                  \n",
       "6 0            11                    554                                  \n",
       "  IeVerIdentifier Census_OSInstallLanguageIdentifier\n",
       "1 137             2                                 \n",
       "2 111             24                                \n",
       "3 117             8                                 \n",
       "4 137             29                                \n",
       "5 137             7                                 \n",
       "6 105             7                                 \n",
       "  Census_ProcessorManufacturerIdentifier Census_GenuineStateName ...\n",
       "1 5                                      INVALID_LICENSE         ...\n",
       "2 5                                      IS_GENUINE              ...\n",
       "3 5                                      IS_GENUINE              ...\n",
       "4 5                                      IS_GENUINE              ...\n",
       "5 5                                      IS_GENUINE              ...\n",
       "6 5                                      IS_GENUINE              ...\n",
       "  Census_OSEdition   Census_OSSkuName    Census_OSUILocaleIdentifier\n",
       "1 Professional       PROFESSIONAL        11                         \n",
       "2 Core               CORE                109                        \n",
       "3 Core               CORE                31                         \n",
       "4 CoreSingleLanguage CORE_SINGLELANGUAGE 125                        \n",
       "5 Core               CORE                30                         \n",
       "6 Core               CORE                30                         \n",
       "  Census_OSInstallTypeName LocaleEnglishNameIdentifier GeoNameIdentifier\n",
       "1 UUPUpgrade               34                          39               \n",
       "2 UUPUpgrade               55                          24               \n",
       "3 Other                    75                          158              \n",
       "4 Upgrade                  182                         211              \n",
       "5 Clean                    74                          276              \n",
       "6 Other                    74                          224              \n",
       "  Census_OSVersion Census_OSBuildRevision CountryIdentifier\n",
       "1 10.0.17134.48    48                     21               \n",
       "2 10.0.16299.125   125                    19               \n",
       "3 10.0.16299.371   371                    139              \n",
       "4 10.0.17134.228   228                    110              \n",
       "5 10.0.17134.228   228                    68               \n",
       "6 10.0.15063.483   483                    108              \n",
       "  Census_SystemVolumeTotalCapacity\n",
       "1   911                           \n",
       "2 41037                           \n",
       "3 51514                           \n",
       "4  1735                           \n",
       "5 15682                           \n",
       "6 44104                           "
      ]
     },
     "metadata": {},
     "output_type": "display_data"
    }
   ],
   "source": [
    "head(trainRed)"
   ]
  },
  {
   "cell_type": "markdown",
   "metadata": {},
   "source": [
    "#### We will review the level values in case we have to make some data processing:"
   ]
  },
  {
   "cell_type": "code",
   "execution_count": 28,
   "metadata": {},
   "outputs": [],
   "source": [
    "# In Census_InternalBatteryType, we will put all levels that contains \"li\" together (lithium), 'n/a', #, Ã¿Ã¿Ã¿Ã¿ and unkn \n",
    "# together because they refer to missing values, keep nimh as a group (Nickel), the other one will keep as 'other'\n",
    "levels(trainRed$Census_InternalBatteryType) <- c('unkn','lithm','lithm','unkn','other','unkn','unkn','other','lithm','other',\n",
    "'unkn','other','other','other','other','other','other','other','lithm','other','lithm','lithm','lithm','lithm','lithm','lithm',\n",
    "'lithm','lithm','lithm','lithm','lithm','lithm','other','unkn','nimh','other','other','other','other','other','unkn','other',\n",
    "'other')"
   ]
  },
  {
   "cell_type": "code",
   "execution_count": 29,
   "metadata": {},
   "outputs": [],
   "source": [
    "# In Census_PowerPlatformRoleName, we will put togheter UNKNOWN and Unspecified levels\n",
    "levels(trainRed$Census_PowerPlatformRoleName) <- c('unkn','AppliancePC','Desktop','EnterpriseServer','Mobile',\n",
    "                                                    'PerformanceServer','Slate','SOHOServer','unkn','unkn','Workstation')"
   ]
  },
  {
   "cell_type": "code",
   "execution_count": 30,
   "metadata": {},
   "outputs": [],
   "source": [
    "# In Census_PrimaryDiskTypeName, we will put togheter UNKNOWN and Unspecified levels\n",
    "levels(trainRed$Census_PrimaryDiskTypeName) <- c('unkn','HDD','SSD','unkn','unkn')"
   ]
  },
  {
   "cell_type": "code",
   "execution_count": 31,
   "metadata": {},
   "outputs": [],
   "source": [
    "# In Census_ChassisTypeName, we will put togheter UNKNOWN and Unknown levels\n",
    "levels(trainRed$Census_ChassisTypeName) <- c('unkn','0','127','30','31','35','36','88','AllinOne','Blade','BladeEnclosure',\n",
    "'BusExpansionChassis','CompactPCI','Convertible','Desktop','Detachable','ExpansionChassis','HandHeld','Laptop',\n",
    "'LowProfileDesktop','LunchBox','MainServerChassis','MiniPC','MiniTower','MultisystemChassis','Notebook','Other','PizzaBox',\n",
    "'Portable','RackMountChassis','SealedCasePC','SpaceSaving','StickPC','SubChassis','SubNotebook','Tablet','Tower','unkn','unkn')"
   ]
  },
  {
   "cell_type": "code",
   "execution_count": 32,
   "metadata": {},
   "outputs": [],
   "source": [
    "# In Census_ActivationChannel, we will change the name of the levels for proper manipulation\n",
    "levels(trainRed$Census_ActivationChannel) <- c('OEM_DM','OEM_NONSLP','Retail','Retail_Eval','Volume_GVLK','Volume_MAK')"
   ]
  },
  {
   "cell_type": "code",
   "execution_count": 33,
   "metadata": {},
   "outputs": [],
   "source": [
    "# In SmartScreen, we will put togheter some repeted variables\n",
    "levels(trainRed$SmartScreen) <- c('unkn','x01','x02','x03','unkn','Block','ExistsNotSet','off','off','off','on','on',\n",
    "                                   'Prompt','RequireAdmin','RequireAdmin','Warn','Warn')"
   ]
  },
  {
   "cell_type": "code",
   "execution_count": 34,
   "metadata": {},
   "outputs": [
    {
     "name": "stdout",
     "output_type": "stream",
     "text": [
      "'data.frame':\t447000 obs. of  40 variables:\n",
      " $ MachineIdentifier                     : chr  \"b17311335a5a2b3b709597a2bd3b0e13\" \"134b2d2ad43e5a2b8572447863033bcb\" \"a8225b2bd182f400f517e959b1221e99\" \"624c5478a184517f786dba122df164eb\" ...\n",
      " $ HasDetections                         : Factor w/ 2 levels \"0\",\"1\": 1 2 2 2 1 2 2 2 1 1 ...\n",
      " $ OrganizationIdentifier                : Factor w/ 46 levels \"1\",\"10\",\"11\",..: 46 16 46 16 16 46 16 16 8 46 ...\n",
      " $ Wdft_IsGamer                          : Factor w/ 3 levels \"0\",\"1\",\"no_info\": 1 1 1 1 2 1 1 2 2 1 ...\n",
      " $ Wdft_RegionIdentifier                 : Factor w/ 16 levels \"1\",\"10\",\"11\",..: 9 7 1 9 4 3 7 9 1 7 ...\n",
      " $ Census_FirmwareManufacturerIdentifier : Factor w/ 306 levels \"1005\",\"1006\",..: 39 289 167 194 39 167 39 39 39 39 ...\n",
      " $ IeVerIdentifier                       : Factor w/ 183 levels \"1\",\"10\",\"102\",..: 14 8 10 14 14 5 8 10 14 14 ...\n",
      " $ Census_OSInstallLanguageIdentifier    : Factor w/ 40 levels \"1\",\"10\",\"11\",..: 12 17 38 22 37 37 35 18 38 17 ...\n",
      " $ Census_ProcessorManufacturerIdentifier: Factor w/ 5 levels \"1\",\"10\",\"3\",\"5\",..: 4 4 4 4 4 4 1 1 4 4 ...\n",
      " $ Census_GenuineStateName               : Factor w/ 5 levels \"INVALID_LICENSE\",..: 1 2 2 2 2 2 2 1 2 2 ...\n",
      " $ Census_IsTouchEnabled                 : Factor w/ 2 levels \"0\",\"1\": 1 1 1 1 1 1 1 1 1 1 ...\n",
      " $ Census_InternalBatteryType            : Factor w/ 4 levels \"unkn\",\"lithm\",..: 1 1 1 1 1 1 1 1 1 1 ...\n",
      " $ AVProductsInstalled                   : Factor w/ 7 levels \"1\",\"2\",\"3\",\"4\",..: 1 1 2 2 1 2 1 1 2 1 ...\n",
      " $ Census_PowerPlatformRoleName          : Factor w/ 9 levels \"unkn\",\"AppliancePC\",..: 5 5 5 3 3 5 3 3 5 3 ...\n",
      " $ Census_PrimaryDiskTypeName            : Factor w/ 3 levels \"unkn\",\"HDD\",\"SSD\": 2 2 3 2 2 3 1 1 2 3 ...\n",
      " $ Census_MDC2FormFactor                 : Factor w/ 12 levels \"AllInOne\",\"Convertible\",..: 8 8 8 1 3 8 3 3 8 3 ...\n",
      " $ OsSuite                               : Factor w/ 9 levels \"16\",\"144\",\"256\",..: 3 8 8 8 8 8 8 8 8 8 ...\n",
      " $ SkuEdition                            : Factor w/ 8 levels \"Cloud\",\"Education\",..: 7 5 5 5 5 5 5 5 5 5 ...\n",
      " $ Census_ProcessorCoreCount             : Factor w/ 26 levels \"1\",\"10\",\"112\",..: 8 16 8 8 16 16 16 22 16 16 ...\n",
      " $ Census_ChassisTypeName                : Factor w/ 37 levels \"unkn\",\"0\",\"127\",..: 26 26 26 9 15 26 15 15 26 15 ...\n",
      " $ AppVersion                            : Factor w/ 102 levels \"4.10.14393.0\",..: 44 44 21 57 57 18 57 57 27 57 ...\n",
      " $ Census_ActivationChannel              : Factor w/ 6 levels \"OEM_DM\",\"OEM_NONSLP\",..: 3 3 1 1 1 1 3 3 3 2 ...\n",
      " $ Census_IsSecureBootEnabled            : Factor w/ 2 levels \"0\",\"1\": 1 1 2 2 2 2 1 1 2 1 ...\n",
      " $ SmartScreen                           : Factor w/ 11 levels \"unkn\",\"x01\",\"x02\",..: 1 10 6 10 1 1 6 10 11 1 ...\n",
      " $ Census_OSBranch                       : Factor w/ 22 levels \"Khmer OS\",\"rs_prerelease\",..: 11 8 8 11 11 7 8 8 11 11 ...\n",
      " $ Census_OSBuildNumber                  : Factor w/ 61 levels \"7601\",\"10240\",..: 22 17 17 22 22 12 17 17 22 22 ...\n",
      " $ OsBuild                               : Factor w/ 49 levels \"7600\",\"7601\",..: 9 8 8 9 9 7 8 8 9 9 ...\n",
      " $ OsPlatformSubRelease                  : Factor w/ 9 levels \"prers5\",\"rs1\",..: 5 4 4 5 5 3 4 4 5 5 ...\n",
      " $ Census_OSWUAutoUpdateOptionsName      : Factor w/ 6 levels \"AutoInstallAndRebootAtMaintenanceTime\",..: 6 4 6 3 3 4 4 6 3 3 ...\n",
      " $ EngineVersion                         : Factor w/ 59 levels \"1.1.11104.0\",..: 52 56 55 56 55 22 55 55 55 55 ...\n",
      " $ Census_OSEdition                      : Factor w/ 25 levels \"Cloud\",\"Core\",..: 13 2 2 5 2 2 2 2 5 2 ...\n",
      " $ Census_OSSkuName                      : Factor w/ 23 levels \"CLOUD\",\"CORE\",..: 17 2 2 5 2 2 2 2 5 2 ...\n",
      " $ Census_OSUILocaleIdentifier           : Factor w/ 91 levels \"5\",\"6\",\"7\",\"9\",..: 5 58 19 69 18 18 14 61 19 58 ...\n",
      " $ Census_OSInstallTypeName              : Factor w/ 9 levels \"Clean\",\"CleanPCRefresh\",..: 9 9 4 8 1 4 9 8 2 9 ...\n",
      " $ LocaleEnglishNameIdentifier           : Factor w/ 239 levels \"1\",\"2\",\"3\",\"4\",..: 31 49 68 161 67 67 94 149 235 50 ...\n",
      " $ GeoNameIdentifier                     : Factor w/ 267 levels \"1\",\"10\",\"100\",..: 207 143 58 115 178 126 60 108 188 84 ...\n",
      " $ Census_OSVersion                      : Factor w/ 353 levels \"10.0.10240.16384\",..: 292 240 252 287 287 211 244 252 283 287 ...\n",
      " $ Census_OSBuildRevision                : Factor w/ 237 levels \"0\",\"1\",\"3\",\"4\",..: 15 33 66 48 48 77 41 66 37 48 ...\n",
      " $ CountryIdentifier                     : Factor w/ 222 levels \"1\",\"2\",\"3\",\"4\",..: 21 19 139 110 68 108 11 160 214 149 ...\n",
      " $ Census_SystemVolumeTotalCapacity      : num  911 41037 51514 1735 15682 ...\n"
     ]
    }
   ],
   "source": [
    "str(trainRed)"
   ]
  },
  {
   "cell_type": "markdown",
   "metadata": {},
   "source": [
    "#### Create Dummy Variables"
   ]
  },
  {
   "cell_type": "code",
   "execution_count": 35,
   "metadata": {},
   "outputs": [
    {
     "data": {
      "text/html": [
       "<ol class=list-inline>\n",
       "\t<li>'OrganizationIdentifier'</li>\n",
       "\t<li>'Wdft_IsGamer'</li>\n",
       "\t<li>'Wdft_RegionIdentifier'</li>\n",
       "\t<li>'Census_FirmwareManufacturerIdentifier'</li>\n",
       "\t<li>'IeVerIdentifier'</li>\n",
       "\t<li>'Census_OSInstallLanguageIdentifier'</li>\n",
       "\t<li>'Census_ProcessorManufacturerIdentifier'</li>\n",
       "\t<li>'Census_GenuineStateName'</li>\n",
       "\t<li>'Census_InternalBatteryType'</li>\n",
       "\t<li>'AVProductsInstalled'</li>\n",
       "\t<li>'Census_PowerPlatformRoleName'</li>\n",
       "\t<li>'Census_PrimaryDiskTypeName'</li>\n",
       "\t<li>'Census_MDC2FormFactor'</li>\n",
       "\t<li>'OsSuite'</li>\n",
       "\t<li>'SkuEdition'</li>\n",
       "\t<li>'Census_ProcessorCoreCount'</li>\n",
       "\t<li>'Census_ChassisTypeName'</li>\n",
       "\t<li>'AppVersion'</li>\n",
       "\t<li>'Census_ActivationChannel'</li>\n",
       "\t<li>'SmartScreen'</li>\n",
       "\t<li>'Census_OSBranch'</li>\n",
       "\t<li>'Census_OSBuildNumber'</li>\n",
       "\t<li>'OsBuild'</li>\n",
       "\t<li>'OsPlatformSubRelease'</li>\n",
       "\t<li>'Census_OSWUAutoUpdateOptionsName'</li>\n",
       "\t<li>'EngineVersion'</li>\n",
       "\t<li>'Census_OSEdition'</li>\n",
       "\t<li>'Census_OSSkuName'</li>\n",
       "\t<li>'Census_OSUILocaleIdentifier'</li>\n",
       "\t<li>'Census_OSInstallTypeName'</li>\n",
       "\t<li>'LocaleEnglishNameIdentifier'</li>\n",
       "\t<li>'GeoNameIdentifier'</li>\n",
       "\t<li>'Census_OSVersion'</li>\n",
       "\t<li>'Census_OSBuildRevision'</li>\n",
       "\t<li>'CountryIdentifier'</li>\n",
       "</ol>\n"
      ],
      "text/latex": [
       "\\begin{enumerate*}\n",
       "\\item 'OrganizationIdentifier'\n",
       "\\item 'Wdft\\_IsGamer'\n",
       "\\item 'Wdft\\_RegionIdentifier'\n",
       "\\item 'Census\\_FirmwareManufacturerIdentifier'\n",
       "\\item 'IeVerIdentifier'\n",
       "\\item 'Census\\_OSInstallLanguageIdentifier'\n",
       "\\item 'Census\\_ProcessorManufacturerIdentifier'\n",
       "\\item 'Census\\_GenuineStateName'\n",
       "\\item 'Census\\_InternalBatteryType'\n",
       "\\item 'AVProductsInstalled'\n",
       "\\item 'Census\\_PowerPlatformRoleName'\n",
       "\\item 'Census\\_PrimaryDiskTypeName'\n",
       "\\item 'Census\\_MDC2FormFactor'\n",
       "\\item 'OsSuite'\n",
       "\\item 'SkuEdition'\n",
       "\\item 'Census\\_ProcessorCoreCount'\n",
       "\\item 'Census\\_ChassisTypeName'\n",
       "\\item 'AppVersion'\n",
       "\\item 'Census\\_ActivationChannel'\n",
       "\\item 'SmartScreen'\n",
       "\\item 'Census\\_OSBranch'\n",
       "\\item 'Census\\_OSBuildNumber'\n",
       "\\item 'OsBuild'\n",
       "\\item 'OsPlatformSubRelease'\n",
       "\\item 'Census\\_OSWUAutoUpdateOptionsName'\n",
       "\\item 'EngineVersion'\n",
       "\\item 'Census\\_OSEdition'\n",
       "\\item 'Census\\_OSSkuName'\n",
       "\\item 'Census\\_OSUILocaleIdentifier'\n",
       "\\item 'Census\\_OSInstallTypeName'\n",
       "\\item 'LocaleEnglishNameIdentifier'\n",
       "\\item 'GeoNameIdentifier'\n",
       "\\item 'Census\\_OSVersion'\n",
       "\\item 'Census\\_OSBuildRevision'\n",
       "\\item 'CountryIdentifier'\n",
       "\\end{enumerate*}\n"
      ],
      "text/markdown": [
       "1. 'OrganizationIdentifier'\n",
       "2. 'Wdft_IsGamer'\n",
       "3. 'Wdft_RegionIdentifier'\n",
       "4. 'Census_FirmwareManufacturerIdentifier'\n",
       "5. 'IeVerIdentifier'\n",
       "6. 'Census_OSInstallLanguageIdentifier'\n",
       "7. 'Census_ProcessorManufacturerIdentifier'\n",
       "8. 'Census_GenuineStateName'\n",
       "9. 'Census_InternalBatteryType'\n",
       "10. 'AVProductsInstalled'\n",
       "11. 'Census_PowerPlatformRoleName'\n",
       "12. 'Census_PrimaryDiskTypeName'\n",
       "13. 'Census_MDC2FormFactor'\n",
       "14. 'OsSuite'\n",
       "15. 'SkuEdition'\n",
       "16. 'Census_ProcessorCoreCount'\n",
       "17. 'Census_ChassisTypeName'\n",
       "18. 'AppVersion'\n",
       "19. 'Census_ActivationChannel'\n",
       "20. 'SmartScreen'\n",
       "21. 'Census_OSBranch'\n",
       "22. 'Census_OSBuildNumber'\n",
       "23. 'OsBuild'\n",
       "24. 'OsPlatformSubRelease'\n",
       "25. 'Census_OSWUAutoUpdateOptionsName'\n",
       "26. 'EngineVersion'\n",
       "27. 'Census_OSEdition'\n",
       "28. 'Census_OSSkuName'\n",
       "29. 'Census_OSUILocaleIdentifier'\n",
       "30. 'Census_OSInstallTypeName'\n",
       "31. 'LocaleEnglishNameIdentifier'\n",
       "32. 'GeoNameIdentifier'\n",
       "33. 'Census_OSVersion'\n",
       "34. 'Census_OSBuildRevision'\n",
       "35. 'CountryIdentifier'\n",
       "\n",
       "\n"
      ],
      "text/plain": [
       " [1] \"OrganizationIdentifier\"                \n",
       " [2] \"Wdft_IsGamer\"                          \n",
       " [3] \"Wdft_RegionIdentifier\"                 \n",
       " [4] \"Census_FirmwareManufacturerIdentifier\" \n",
       " [5] \"IeVerIdentifier\"                       \n",
       " [6] \"Census_OSInstallLanguageIdentifier\"    \n",
       " [7] \"Census_ProcessorManufacturerIdentifier\"\n",
       " [8] \"Census_GenuineStateName\"               \n",
       " [9] \"Census_InternalBatteryType\"            \n",
       "[10] \"AVProductsInstalled\"                   \n",
       "[11] \"Census_PowerPlatformRoleName\"          \n",
       "[12] \"Census_PrimaryDiskTypeName\"            \n",
       "[13] \"Census_MDC2FormFactor\"                 \n",
       "[14] \"OsSuite\"                               \n",
       "[15] \"SkuEdition\"                            \n",
       "[16] \"Census_ProcessorCoreCount\"             \n",
       "[17] \"Census_ChassisTypeName\"                \n",
       "[18] \"AppVersion\"                            \n",
       "[19] \"Census_ActivationChannel\"              \n",
       "[20] \"SmartScreen\"                           \n",
       "[21] \"Census_OSBranch\"                       \n",
       "[22] \"Census_OSBuildNumber\"                  \n",
       "[23] \"OsBuild\"                               \n",
       "[24] \"OsPlatformSubRelease\"                  \n",
       "[25] \"Census_OSWUAutoUpdateOptionsName\"      \n",
       "[26] \"EngineVersion\"                         \n",
       "[27] \"Census_OSEdition\"                      \n",
       "[28] \"Census_OSSkuName\"                      \n",
       "[29] \"Census_OSUILocaleIdentifier\"           \n",
       "[30] \"Census_OSInstallTypeName\"              \n",
       "[31] \"LocaleEnglishNameIdentifier\"           \n",
       "[32] \"GeoNameIdentifier\"                     \n",
       "[33] \"Census_OSVersion\"                      \n",
       "[34] \"Census_OSBuildRevision\"                \n",
       "[35] \"CountryIdentifier\"                     "
      ]
     },
     "metadata": {},
     "output_type": "display_data"
    }
   ],
   "source": [
    "# Getting variables to convert into dummy, Census_IsTouchEnabled and Census_IsSecureBootEnabled are dummy already\n",
    "v_dummy<-list()\n",
    "for (i in colnames(trainRed)){\n",
    "    if (length(levels(trainRed[[i]]))>2)\n",
    "     v_dummy=list.append(v_dummy,i)   \n",
    "}\n",
    "v_dummy <- unlist(v_dummy)\n",
    "v_dummy"
   ]
  },
  {
   "cell_type": "code",
   "execution_count": 36,
   "metadata": {},
   "outputs": [],
   "source": [
    "dummy<-data.frame(trainRed[c(\"MachineIdentifier\",\"HasDetections\")])\n",
    "for (i in v_dummy){\n",
    "    temp <- trainRed[,c('MachineIdentifier',i)]\n",
    "    temp <- spread(temp,i,i,convert=TRUE)\n",
    "    temp <- temp[, c(3:(ncol(temp)))]\n",
    "    names <- colnames(temp)\n",
    "    colnames(temp) <- paste(i, names, sep='_')\n",
    "    temp[!is.na(temp)]<- 1\n",
    "    temp[is.na(temp)]<- 0\n",
    "    dummy <- cbind(dummy,temp)    \n",
    "}"
   ]
  },
  {
   "cell_type": "code",
   "execution_count": 37,
   "metadata": {},
   "outputs": [],
   "source": [
    "# Joining dummy dataset with the rest of variables\n",
    "other<-trainRed[c('Census_IsTouchEnabled','Census_IsSecureBootEnabled','Census_SystemVolumeTotalCapacity')]\n",
    "train_dummy <- cbind(dummy,other)"
   ]
  },
  {
   "cell_type": "code",
   "execution_count": 38,
   "metadata": {},
   "outputs": [
    {
     "data": {
      "text/html": [
       "<table>\n",
       "<thead><tr><th scope=col>MachineIdentifier</th><th scope=col>HasDetections</th><th scope=col>OrganizationIdentifier_10</th><th scope=col>OrganizationIdentifier_11</th><th scope=col>OrganizationIdentifier_12</th><th scope=col>OrganizationIdentifier_14</th><th scope=col>OrganizationIdentifier_15</th><th scope=col>OrganizationIdentifier_16</th><th scope=col>OrganizationIdentifier_18</th><th scope=col>OrganizationIdentifier_19</th><th scope=col>...</th><th scope=col>CountryIdentifier_216</th><th scope=col>CountryIdentifier_217</th><th scope=col>CountryIdentifier_218</th><th scope=col>CountryIdentifier_219</th><th scope=col>CountryIdentifier_220</th><th scope=col>CountryIdentifier_221</th><th scope=col>CountryIdentifier_222</th><th scope=col>Census_IsTouchEnabled</th><th scope=col>Census_IsSecureBootEnabled</th><th scope=col>Census_SystemVolumeTotalCapacity</th></tr></thead>\n",
       "<tbody>\n",
       "\t<tr><td>b17311335a5a2b3b709597a2bd3b0e13</td><td>0                               </td><td>0                               </td><td>0                               </td><td>0                               </td><td>0                               </td><td>0                               </td><td>0                               </td><td>0                               </td><td>0                               </td><td>...                             </td><td>0                               </td><td>0                               </td><td>0                               </td><td>0                               </td><td>0                               </td><td>0                               </td><td>0                               </td><td>0                               </td><td>0                               </td><td>  911                           </td></tr>\n",
       "\t<tr><td>134b2d2ad43e5a2b8572447863033bcb</td><td>1                               </td><td>0                               </td><td>0                               </td><td>0                               </td><td>0                               </td><td>0                               </td><td>0                               </td><td>0                               </td><td>0                               </td><td>...                             </td><td>0                               </td><td>0                               </td><td>0                               </td><td>0                               </td><td>0                               </td><td>0                               </td><td>0                               </td><td>0                               </td><td>0                               </td><td>41037                           </td></tr>\n",
       "\t<tr><td>a8225b2bd182f400f517e959b1221e99</td><td>1                               </td><td>0                               </td><td>0                               </td><td>0                               </td><td>0                               </td><td>0                               </td><td>0                               </td><td>0                               </td><td>0                               </td><td>...                             </td><td>0                               </td><td>0                               </td><td>0                               </td><td>0                               </td><td>0                               </td><td>0                               </td><td>0                               </td><td>0                               </td><td>1                               </td><td>51514                           </td></tr>\n",
       "\t<tr><td>624c5478a184517f786dba122df164eb</td><td>1                               </td><td>0                               </td><td>0                               </td><td>0                               </td><td>0                               </td><td>0                               </td><td>0                               </td><td>1                               </td><td>0                               </td><td>...                             </td><td>0                               </td><td>0                               </td><td>0                               </td><td>0                               </td><td>0                               </td><td>0                               </td><td>0                               </td><td>0                               </td><td>1                               </td><td> 1735                           </td></tr>\n",
       "\t<tr><td>b6cb201455818a249f05f1bc59240d79</td><td>0                               </td><td>0                               </td><td>0                               </td><td>0                               </td><td>0                               </td><td>0                               </td><td>0                               </td><td>1                               </td><td>0                               </td><td>...                             </td><td>0                               </td><td>0                               </td><td>0                               </td><td>0                               </td><td>0                               </td><td>0                               </td><td>0                               </td><td>0                               </td><td>1                               </td><td>15682                           </td></tr>\n",
       "\t<tr><td>cab997f1b99144e150926d60a2c08ee6</td><td>1                               </td><td>0                               </td><td>0                               </td><td>0                               </td><td>0                               </td><td>0                               </td><td>0                               </td><td>0                               </td><td>0                               </td><td>...                             </td><td>0                               </td><td>0                               </td><td>0                               </td><td>0                               </td><td>0                               </td><td>0                               </td><td>0                               </td><td>0                               </td><td>1                               </td><td>44104                           </td></tr>\n",
       "</tbody>\n",
       "</table>\n"
      ],
      "text/latex": [
       "\\begin{tabular}{r|lllllllllllllllllllllllllllllllllllllllllllllllllllllllllllllllllllllllllllllllllllllllllllllllllllllllllllllllllllllllllllllllllllllllllllllllllllllllllllllllllllllllllllllllllllllllllllllllllllllllllllllllllllllllllllllllllllllllllllllllllllllllllllllllllllllllllllllllllllllllllllllllllllllllllllllllllllllllllllllllllllllllllllllllllllllllllllllllllllllllllllllllllllllllllllllllllllllllllllllllllllllllllllllllllllllllllllllllllllllllllllllllllllllllllllllllllllllllllllllllllllllllllllllllllllllllllllllllllllllllllllllllllllllllllllllllllllllllllllllllllllllllllllllllllllllllllllllllllllllllllllllllllllllllllllllllllllllllllllllllllllllllllllllllllllllllllllllllllllllllllllllllllllllllllllllllllllllllllllllllllllllllllllllllllllllllllllllllllllllllllllllllllllllllllllllllllllllllllllllllllllllllllllllllllllllllllllllllllllllllllllllllllllllllllllllllllllllllllllllllllllllllllllllllllllllllllllllllllllllllllllllllllllllllllllllllllllllllllllllllllllllllllllllllllllllllllllllllllllllllllllllllllllllllllllllllllllllllllllllllllllllllllllllllllllllllllllllllllllllllllllllllllllllllllllllllllllllllllllllllllllllllllllllllllllllllllllllllllllllllllllllllllllllllllllllllllllllllllllllllllllllllllllllllllllllllllllllllllllllllllllllllllllllllllllllllllllllllllllllllllllllllllllllllllllllllllllllllllllllllllllllllllllllllllllllllllllllllllllllllllllllllllllllllllllllllllllllllllllllllllllllllllllllllllllllllllllllllllllllllllllllllllllllllllllllllllllllllllllllllllllllllllllllllllllllllllllllllllllllllllllllllllllllllllllllllllllllllllllllllllllllllllllllllllllllllllllllllllllllllllllllllllllllllllllllllllllllllllllllllllllllllllllllllllllllllllllllllllllllllllllllllllllllllllllllllllllllllllllllllllllllllllllllllllllllllllllllllllllllllllllllllllllllllllllllllllllllllllllllllllllllllllllllllllllllllllllllllllllllllllllllllllllllllllllllllllllllllllllllllllllllllllllllllllllllllllllllllllllllllllllllllllllllllllllllllllllllllllllllllllllllllllllllllllllllllllllllllllllllllllllllllllllllllllllllllllllllllllllllllllllllllllllllllllllllllllllllllllllllllllllllllllllllllllllllllllllllllllllllllllllllllllllllllllllllllllllllllllllllllllllllllllllllllllllllllllllllllllllllllllllllllllllllllllllllllllllllllllllllllllllllllllllllllllllllllllllllllllllllllllllllllllllllllllllllllllllllllllllllllllllllllllllllllllllllllllllllllllllllllllllllllllllllllllllllllllll}\n",
       " MachineIdentifier & HasDetections & OrganizationIdentifier\\_10 & OrganizationIdentifier\\_11 & OrganizationIdentifier\\_12 & OrganizationIdentifier\\_14 & OrganizationIdentifier\\_15 & OrganizationIdentifier\\_16 & OrganizationIdentifier\\_18 & OrganizationIdentifier\\_19 & ... & CountryIdentifier\\_216 & CountryIdentifier\\_217 & CountryIdentifier\\_218 & CountryIdentifier\\_219 & CountryIdentifier\\_220 & CountryIdentifier\\_221 & CountryIdentifier\\_222 & Census\\_IsTouchEnabled & Census\\_IsSecureBootEnabled & Census\\_SystemVolumeTotalCapacity\\\\\n",
       "\\hline\n",
       "\t b17311335a5a2b3b709597a2bd3b0e13 & 0                                & 0                                & 0                                & 0                                & 0                                & 0                                & 0                                & 0                                & 0                                & ...                              & 0                                & 0                                & 0                                & 0                                & 0                                & 0                                & 0                                & 0                                & 0                                &   911                           \\\\\n",
       "\t 134b2d2ad43e5a2b8572447863033bcb & 1                                & 0                                & 0                                & 0                                & 0                                & 0                                & 0                                & 0                                & 0                                & ...                              & 0                                & 0                                & 0                                & 0                                & 0                                & 0                                & 0                                & 0                                & 0                                & 41037                           \\\\\n",
       "\t a8225b2bd182f400f517e959b1221e99 & 1                                & 0                                & 0                                & 0                                & 0                                & 0                                & 0                                & 0                                & 0                                & ...                              & 0                                & 0                                & 0                                & 0                                & 0                                & 0                                & 0                                & 0                                & 1                                & 51514                           \\\\\n",
       "\t 624c5478a184517f786dba122df164eb & 1                                & 0                                & 0                                & 0                                & 0                                & 0                                & 0                                & 1                                & 0                                & ...                              & 0                                & 0                                & 0                                & 0                                & 0                                & 0                                & 0                                & 0                                & 1                                &  1735                           \\\\\n",
       "\t b6cb201455818a249f05f1bc59240d79 & 0                                & 0                                & 0                                & 0                                & 0                                & 0                                & 0                                & 1                                & 0                                & ...                              & 0                                & 0                                & 0                                & 0                                & 0                                & 0                                & 0                                & 0                                & 1                                & 15682                           \\\\\n",
       "\t cab997f1b99144e150926d60a2c08ee6 & 1                                & 0                                & 0                                & 0                                & 0                                & 0                                & 0                                & 0                                & 0                                & ...                              & 0                                & 0                                & 0                                & 0                                & 0                                & 0                                & 0                                & 0                                & 1                                & 44104                           \\\\\n",
       "\\end{tabular}\n"
      ],
      "text/markdown": [
       "\n",
       "| MachineIdentifier | HasDetections | OrganizationIdentifier_10 | OrganizationIdentifier_11 | OrganizationIdentifier_12 | OrganizationIdentifier_14 | OrganizationIdentifier_15 | OrganizationIdentifier_16 | OrganizationIdentifier_18 | OrganizationIdentifier_19 | ... | CountryIdentifier_216 | CountryIdentifier_217 | CountryIdentifier_218 | CountryIdentifier_219 | CountryIdentifier_220 | CountryIdentifier_221 | CountryIdentifier_222 | Census_IsTouchEnabled | Census_IsSecureBootEnabled | Census_SystemVolumeTotalCapacity |\n",
       "|---|---|---|---|---|---|---|---|---|---|---|---|---|---|---|---|---|---|---|---|---|\n",
       "| b17311335a5a2b3b709597a2bd3b0e13 | 0                                | 0                                | 0                                | 0                                | 0                                | 0                                | 0                                | 0                                | 0                                | ...                              | 0                                | 0                                | 0                                | 0                                | 0                                | 0                                | 0                                | 0                                | 0                                |   911                            |\n",
       "| 134b2d2ad43e5a2b8572447863033bcb | 1                                | 0                                | 0                                | 0                                | 0                                | 0                                | 0                                | 0                                | 0                                | ...                              | 0                                | 0                                | 0                                | 0                                | 0                                | 0                                | 0                                | 0                                | 0                                | 41037                            |\n",
       "| a8225b2bd182f400f517e959b1221e99 | 1                                | 0                                | 0                                | 0                                | 0                                | 0                                | 0                                | 0                                | 0                                | ...                              | 0                                | 0                                | 0                                | 0                                | 0                                | 0                                | 0                                | 0                                | 1                                | 51514                            |\n",
       "| 624c5478a184517f786dba122df164eb | 1                                | 0                                | 0                                | 0                                | 0                                | 0                                | 0                                | 1                                | 0                                | ...                              | 0                                | 0                                | 0                                | 0                                | 0                                | 0                                | 0                                | 0                                | 1                                |  1735                            |\n",
       "| b6cb201455818a249f05f1bc59240d79 | 0                                | 0                                | 0                                | 0                                | 0                                | 0                                | 0                                | 1                                | 0                                | ...                              | 0                                | 0                                | 0                                | 0                                | 0                                | 0                                | 0                                | 0                                | 1                                | 15682                            |\n",
       "| cab997f1b99144e150926d60a2c08ee6 | 1                                | 0                                | 0                                | 0                                | 0                                | 0                                | 0                                | 0                                | 0                                | ...                              | 0                                | 0                                | 0                                | 0                                | 0                                | 0                                | 0                                | 0                                | 1                                | 44104                            |\n",
       "\n"
      ],
      "text/plain": [
       "  MachineIdentifier                HasDetections OrganizationIdentifier_10\n",
       "1 b17311335a5a2b3b709597a2bd3b0e13 0             0                        \n",
       "2 134b2d2ad43e5a2b8572447863033bcb 1             0                        \n",
       "3 a8225b2bd182f400f517e959b1221e99 1             0                        \n",
       "4 624c5478a184517f786dba122df164eb 1             0                        \n",
       "5 b6cb201455818a249f05f1bc59240d79 0             0                        \n",
       "6 cab997f1b99144e150926d60a2c08ee6 1             0                        \n",
       "  OrganizationIdentifier_11 OrganizationIdentifier_12 OrganizationIdentifier_14\n",
       "1 0                         0                         0                        \n",
       "2 0                         0                         0                        \n",
       "3 0                         0                         0                        \n",
       "4 0                         0                         0                        \n",
       "5 0                         0                         0                        \n",
       "6 0                         0                         0                        \n",
       "  OrganizationIdentifier_15 OrganizationIdentifier_16 OrganizationIdentifier_18\n",
       "1 0                         0                         0                        \n",
       "2 0                         0                         0                        \n",
       "3 0                         0                         0                        \n",
       "4 0                         0                         1                        \n",
       "5 0                         0                         1                        \n",
       "6 0                         0                         0                        \n",
       "  OrganizationIdentifier_19 ... CountryIdentifier_216 CountryIdentifier_217\n",
       "1 0                         ... 0                     0                    \n",
       "2 0                         ... 0                     0                    \n",
       "3 0                         ... 0                     0                    \n",
       "4 0                         ... 0                     0                    \n",
       "5 0                         ... 0                     0                    \n",
       "6 0                         ... 0                     0                    \n",
       "  CountryIdentifier_218 CountryIdentifier_219 CountryIdentifier_220\n",
       "1 0                     0                     0                    \n",
       "2 0                     0                     0                    \n",
       "3 0                     0                     0                    \n",
       "4 0                     0                     0                    \n",
       "5 0                     0                     0                    \n",
       "6 0                     0                     0                    \n",
       "  CountryIdentifier_221 CountryIdentifier_222 Census_IsTouchEnabled\n",
       "1 0                     0                     0                    \n",
       "2 0                     0                     0                    \n",
       "3 0                     0                     0                    \n",
       "4 0                     0                     0                    \n",
       "5 0                     0                     0                    \n",
       "6 0                     0                     0                    \n",
       "  Census_IsSecureBootEnabled Census_SystemVolumeTotalCapacity\n",
       "1 0                            911                           \n",
       "2 0                          41037                           \n",
       "3 1                          51514                           \n",
       "4 1                           1735                           \n",
       "5 1                          15682                           \n",
       "6 1                          44104                           "
      ]
     },
     "metadata": {},
     "output_type": "display_data"
    }
   ],
   "source": [
    "head(train_dummy)"
   ]
  },
  {
   "cell_type": "code",
   "execution_count": 39,
   "metadata": {},
   "outputs": [],
   "source": [
    "# Dummy variables as factor\n",
    "dum <- which(!names(train_dummy) %in% c('MachineIdentifier', 'HasDetections','Census_SystemVolumeTotalCapacity'))\n",
    "train_dummy[,dum]  <- lapply(train_dummy[,dum], as.factor)"
   ]
  },
  {
   "cell_type": "code",
   "execution_count": 40,
   "metadata": {},
   "outputs": [],
   "source": [
    "# Dropping dummy variables with less than 1000 in level 1\n",
    "drop<-c()\n",
    "for (i in dum){\n",
    "    if (sum(train_dummy[,i]==1)<1000)\n",
    "    drop<-c(drop,i)\n",
    "}\n",
    "\n",
    "train_dummy<-train_dummy[,-drop]"
   ]
  },
  {
   "cell_type": "markdown",
   "metadata": {},
   "source": [
    "### 2.3 Variable Selection"
   ]
  },
  {
   "cell_type": "markdown",
   "metadata": {},
   "source": [
    "#### Split train data into train_fit, valid, test (60:20:20)"
   ]
  },
  {
   "cell_type": "code",
   "execution_count": 41,
   "metadata": {},
   "outputs": [],
   "source": [
    "set.seed(123)\n",
    "\n",
    "train_idx <- caret::createDataPartition(y=train_dummy[, 'HasDetections'], p=.6, list=F)\n",
    "train_fit <- train_dummy[train_idx, ]  # Train 60%\n",
    "valid_test <- train_dummy[-train_idx, ]  # Valid + Test 40%\n",
    "\n",
    "valid_idx <- caret::createDataPartition(y=valid_test[, 'HasDetections'], p=.5, list=F)\n",
    "valid <- valid_test[valid_idx, ]  # Valid 20%\n",
    "test <- valid_test[-valid_idx, ]  # Test 20%"
   ]
  },
  {
   "cell_type": "markdown",
   "metadata": {},
   "source": [
    "#### Check the target variable class distribution"
   ]
  },
  {
   "cell_type": "code",
   "execution_count": 42,
   "metadata": {},
   "outputs": [
    {
     "data": {
      "text/html": [
       "<table>\n",
       "<thead><tr><th scope=col>HasDetections</th><th scope=col>count</th><th scope=col>percentage</th></tr></thead>\n",
       "<tbody>\n",
       "\t<tr><td>0     </td><td>134355</td><td>0.5   </td></tr>\n",
       "\t<tr><td>1     </td><td>133846</td><td>0.5   </td></tr>\n",
       "</tbody>\n",
       "</table>\n"
      ],
      "text/latex": [
       "\\begin{tabular}{r|lll}\n",
       " HasDetections & count & percentage\\\\\n",
       "\\hline\n",
       "\t 0      & 134355 & 0.5   \\\\\n",
       "\t 1      & 133846 & 0.5   \\\\\n",
       "\\end{tabular}\n"
      ],
      "text/markdown": [
       "\n",
       "| HasDetections | count | percentage |\n",
       "|---|---|---|\n",
       "| 0      | 134355 | 0.5    |\n",
       "| 1      | 133846 | 0.5    |\n",
       "\n"
      ],
      "text/plain": [
       "  HasDetections count  percentage\n",
       "1 0             134355 0.5       \n",
       "2 1             133846 0.5       "
      ]
     },
     "metadata": {},
     "output_type": "display_data"
    }
   ],
   "source": [
    "# Train_fit\n",
    "ddply(train_fit, \"HasDetections\", summarise, count = length(HasDetections), \n",
    "    percentage = round(length(HasDetections)/nrow(train_fit), 2))"
   ]
  },
  {
   "cell_type": "code",
   "execution_count": 43,
   "metadata": {},
   "outputs": [
    {
     "data": {
      "text/html": [
       "<table>\n",
       "<thead><tr><th scope=col>HasDetections</th><th scope=col>count</th><th scope=col>percentage</th></tr></thead>\n",
       "<tbody>\n",
       "\t<tr><td>0    </td><td>44785</td><td>0.5  </td></tr>\n",
       "\t<tr><td>1    </td><td>44615</td><td>0.5  </td></tr>\n",
       "</tbody>\n",
       "</table>\n"
      ],
      "text/latex": [
       "\\begin{tabular}{r|lll}\n",
       " HasDetections & count & percentage\\\\\n",
       "\\hline\n",
       "\t 0     & 44785 & 0.5  \\\\\n",
       "\t 1     & 44615 & 0.5  \\\\\n",
       "\\end{tabular}\n"
      ],
      "text/markdown": [
       "\n",
       "| HasDetections | count | percentage |\n",
       "|---|---|---|\n",
       "| 0     | 44785 | 0.5   |\n",
       "| 1     | 44615 | 0.5   |\n",
       "\n"
      ],
      "text/plain": [
       "  HasDetections count percentage\n",
       "1 0             44785 0.5       \n",
       "2 1             44615 0.5       "
      ]
     },
     "metadata": {},
     "output_type": "display_data"
    }
   ],
   "source": [
    "# Vaild\n",
    "ddply(valid, \"HasDetections\", summarise, count = length(HasDetections), \n",
    "    percentage = round(length(HasDetections)/nrow(valid), 2))"
   ]
  },
  {
   "cell_type": "code",
   "execution_count": 44,
   "metadata": {},
   "outputs": [
    {
     "data": {
      "text/html": [
       "<table>\n",
       "<thead><tr><th scope=col>HasDetections</th><th scope=col>count</th><th scope=col>percentage</th></tr></thead>\n",
       "<tbody>\n",
       "\t<tr><td>0    </td><td>44784</td><td>0.5  </td></tr>\n",
       "\t<tr><td>1    </td><td>44615</td><td>0.5  </td></tr>\n",
       "</tbody>\n",
       "</table>\n"
      ],
      "text/latex": [
       "\\begin{tabular}{r|lll}\n",
       " HasDetections & count & percentage\\\\\n",
       "\\hline\n",
       "\t 0     & 44784 & 0.5  \\\\\n",
       "\t 1     & 44615 & 0.5  \\\\\n",
       "\\end{tabular}\n"
      ],
      "text/markdown": [
       "\n",
       "| HasDetections | count | percentage |\n",
       "|---|---|---|\n",
       "| 0     | 44784 | 0.5   |\n",
       "| 1     | 44615 | 0.5   |\n",
       "\n"
      ],
      "text/plain": [
       "  HasDetections count percentage\n",
       "1 0             44784 0.5       \n",
       "2 1             44615 0.5       "
      ]
     },
     "metadata": {},
     "output_type": "display_data"
    }
   ],
   "source": [
    "# Test\n",
    "ddply(test, \"HasDetections\", summarise, count = length(HasDetections), \n",
    "    percentage = round(length(HasDetections)/nrow(test), 2))"
   ]
  },
  {
   "cell_type": "code",
   "execution_count": 45,
   "metadata": {},
   "outputs": [],
   "source": [
    "# Rename the data columns\n",
    "for (v in colnames(train_fit)) {\n",
    "    \n",
    "    # Fix the column name\n",
    "    fix_name <- str_replace_all(v, \"[^[:alnum:] ]\", \"_\")\n",
    "    fix_name <- gsub(' +', '', fix_name) \n",
    "    \n",
    "    # Train, valid,test\n",
    "    colnames(train_fit)[colnames(train_fit) == v] <- fix_name\n",
    "    colnames(valid)[colnames(valid) == v] <- fix_name\n",
    "    colnames(test)[colnames(test) == v] <- fix_name\n",
    "}"
   ]
  },
  {
   "cell_type": "code",
   "execution_count": 46,
   "metadata": {},
   "outputs": [],
   "source": [
    "# Convert variables as numeric in training dataset to calculate correlation\n",
    "no_convert <- c('MachineIdentifier','Census_SystemVolumeTotalCapacity')\n",
    "for (i in names(train_fit)){\n",
    "    if (!(i %in% no_convert)){\n",
    "        train_fit[i]<-as.numeric(levels(train_fit[[i]])[train_fit[[i]]])\n",
    "    }\n",
    "  \n",
    "}"
   ]
  },
  {
   "cell_type": "code",
   "execution_count": 47,
   "metadata": {},
   "outputs": [],
   "source": [
    "# Looking for correlated features\n",
    "no_cor<-c(1,2)\n",
    "cor <- findCorrelation(train_fit[,-no_cor], cutoff=0.75, names = TRUE)"
   ]
  },
  {
   "cell_type": "code",
   "execution_count": 48,
   "metadata": {},
   "outputs": [],
   "source": [
    "# Removing redundant reatures\n",
    "keep <- setdiff(colnames(train_fit),cor)\n",
    "train_fit<-train_fit[,keep]"
   ]
  },
  {
   "cell_type": "markdown",
   "metadata": {},
   "source": [
    "#### FisherScore"
   ]
  },
  {
   "cell_type": "code",
   "execution_count": 49,
   "metadata": {},
   "outputs": [],
   "source": [
    "FisherScore <- function(basetable, depvar, IV_list) {\n",
    "  \"\n",
    "  This function calculate the Fisher score of a variable.\n",
    "  \n",
    "  Ref:\n",
    "  ---\n",
    "  Verbeke, W., Dejaeger, K., Martens, D., Hur, J., & Baesens, B. (2012). New insights into churn prediction in the telecommunication sector: A profit driven data mining approach. European Journal of Operational Research, 218(1), 211-229.\n",
    "  \"\n",
    "  \n",
    "  # Get the unique values of dependent variable\n",
    "  DV <- unique(basetable[, depvar])\n",
    "  \n",
    "  IV_FisherScore <- c()\n",
    "  \n",
    "  for (v in IV_list) {\n",
    "    fs <- abs((mean(basetable[which(basetable[, depvar]==DV[1]), v]) - mean(basetable[which(basetable[, depvar]==DV[2]), v]))) /\n",
    "      sqrt((var(basetable[which(basetable[, depvar]==DV[1]), v]) + var(basetable[which(basetable[, depvar]==DV[2]), v])))\n",
    "    IV_FisherScore <- c(IV_FisherScore, fs)\n",
    "  }\n",
    "  \n",
    "  return(data.frame(IV=IV_list, fisher_score=IV_FisherScore))\n",
    "}\n",
    "\n",
    "varSelectionFisher <- function(basetable, depvar, IV_list, num_select) {\n",
    "  \"\n",
    "  This function will calculate the Fisher score for all IVs and select the best\n",
    "  top IVs.\n",
    "\n",
    "  Assumption: all variables of input dataset are converted into numeric type.\n",
    "  \"\n",
    "  \n",
    "  fs <- FisherScore(basetable, depvar, IV_list)  # Calculate Fisher Score for all IVs\n",
    "  num_select <- min(num_select, ncol(basetable))  # Top N IVs to be selected\n",
    "  return(as.vector(fs[order(fs$fisher_score, decreasing=T), ][1:num_select, 'IV']))\n",
    "}"
   ]
  },
  {
   "cell_type": "code",
   "execution_count": 50,
   "metadata": {},
   "outputs": [
    {
     "data": {
      "text/html": [
       "<table>\n",
       "<thead><tr><th></th><th scope=col>IV</th><th scope=col>fisher_score</th></tr></thead>\n",
       "<tbody>\n",
       "\t<tr><th scope=row>13</th><td>IeVerIdentifier_114            </td><td>0.007216679                    </td></tr>\n",
       "\t<tr><th scope=row>92</th><td>LocaleEnglishNameIdentifier_262</td><td>0.007209489                    </td></tr>\n",
       "\t<tr><th scope=row>111</th><td>GeoNameIdentifier_29           </td><td>0.006595798                    </td></tr>\n",
       "\t<tr><th scope=row>132</th><td>Census_OSVersion_10_0_15063_540</td><td>0.006568268                    </td></tr>\n",
       "\t<tr><th scope=row>146</th><td>Census_OSBuildRevision_540     </td><td>0.006568268                    </td></tr>\n",
       "\t<tr><th scope=row>90</th><td>LocaleEnglishNameIdentifier_246</td><td>0.006225686                    </td></tr>\n",
       "</tbody>\n",
       "</table>\n"
      ],
      "text/latex": [
       "\\begin{tabular}{r|ll}\n",
       "  & IV & fisher\\_score\\\\\n",
       "\\hline\n",
       "\t13 & IeVerIdentifier\\_114             & 0.007216679                      \\\\\n",
       "\t92 & LocaleEnglishNameIdentifier\\_262 & 0.007209489                      \\\\\n",
       "\t111 & GeoNameIdentifier\\_29            & 0.006595798                      \\\\\n",
       "\t132 & Census\\_OSVersion\\_10\\_0\\_15063\\_540 & 0.006568268                              \\\\\n",
       "\t146 & Census\\_OSBuildRevision\\_540      & 0.006568268                        \\\\\n",
       "\t90 & LocaleEnglishNameIdentifier\\_246 & 0.006225686                      \\\\\n",
       "\\end{tabular}\n"
      ],
      "text/markdown": [
       "\n",
       "| <!--/--> | IV | fisher_score |\n",
       "|---|---|---|\n",
       "| 13 | IeVerIdentifier_114             | 0.007216679                     |\n",
       "| 92 | LocaleEnglishNameIdentifier_262 | 0.007209489                     |\n",
       "| 111 | GeoNameIdentifier_29            | 0.006595798                     |\n",
       "| 132 | Census_OSVersion_10_0_15063_540 | 0.006568268                     |\n",
       "| 146 | Census_OSBuildRevision_540      | 0.006568268                     |\n",
       "| 90 | LocaleEnglishNameIdentifier_246 | 0.006225686                     |\n",
       "\n"
      ],
      "text/plain": [
       "    IV                              fisher_score\n",
       "13  IeVerIdentifier_114             0.007216679 \n",
       "92  LocaleEnglishNameIdentifier_262 0.007209489 \n",
       "111 GeoNameIdentifier_29            0.006595798 \n",
       "132 Census_OSVersion_10_0_15063_540 0.006568268 \n",
       "146 Census_OSBuildRevision_540      0.006568268 \n",
       "90  LocaleEnglishNameIdentifier_246 0.006225686 "
      ]
     },
     "metadata": {},
     "output_type": "display_data"
    }
   ],
   "source": [
    "# Calculate Fisher Score for all variable\n",
    "# Get the IV and DV list\n",
    "dv_list <- c('HasDetections')  # DV list\n",
    "iv_list <- setdiff(names(train_fit), dv_list)  # IV list excluded DV\n",
    "iv_list <- setdiff(iv_list, 'MachineIdentifier')  # Excluded the MachineIdentifier\n",
    "\n",
    "fs <- FisherScore(train_fit, dv_list, iv_list)\n",
    "fs <- fs[order(-fs$fisher_score),]\n",
    "head(fs)"
   ]
  },
  {
   "cell_type": "code",
   "execution_count": 51,
   "metadata": {},
   "outputs": [
    {
     "data": {
      "text/html": [
       "<ol class=list-inline>\n",
       "\t<li>'IeVerIdentifier_114'</li>\n",
       "\t<li>'LocaleEnglishNameIdentifier_262'</li>\n",
       "\t<li>'GeoNameIdentifier_29'</li>\n",
       "\t<li>'Census_OSVersion_10_0_15063_540'</li>\n",
       "\t<li>'Census_OSBuildRevision_540'</li>\n",
       "\t<li>'LocaleEnglishNameIdentifier_246'</li>\n",
       "\t<li>'Census_OSVersion_10_0_14393_2214'</li>\n",
       "\t<li>'LocaleEnglishNameIdentifier_215'</li>\n",
       "\t<li>'LocaleEnglishNameIdentifier_107'</li>\n",
       "\t<li>'GeoNameIdentifier_194'</li>\n",
       "</ol>\n"
      ],
      "text/latex": [
       "\\begin{enumerate*}\n",
       "\\item 'IeVerIdentifier\\_114'\n",
       "\\item 'LocaleEnglishNameIdentifier\\_262'\n",
       "\\item 'GeoNameIdentifier\\_29'\n",
       "\\item 'Census\\_OSVersion\\_10\\_0\\_15063\\_540'\n",
       "\\item 'Census\\_OSBuildRevision\\_540'\n",
       "\\item 'LocaleEnglishNameIdentifier\\_246'\n",
       "\\item 'Census\\_OSVersion\\_10\\_0\\_14393\\_2214'\n",
       "\\item 'LocaleEnglishNameIdentifier\\_215'\n",
       "\\item 'LocaleEnglishNameIdentifier\\_107'\n",
       "\\item 'GeoNameIdentifier\\_194'\n",
       "\\end{enumerate*}\n"
      ],
      "text/markdown": [
       "1. 'IeVerIdentifier_114'\n",
       "2. 'LocaleEnglishNameIdentifier_262'\n",
       "3. 'GeoNameIdentifier_29'\n",
       "4. 'Census_OSVersion_10_0_15063_540'\n",
       "5. 'Census_OSBuildRevision_540'\n",
       "6. 'LocaleEnglishNameIdentifier_246'\n",
       "7. 'Census_OSVersion_10_0_14393_2214'\n",
       "8. 'LocaleEnglishNameIdentifier_215'\n",
       "9. 'LocaleEnglishNameIdentifier_107'\n",
       "10. 'GeoNameIdentifier_194'\n",
       "\n",
       "\n"
      ],
      "text/plain": [
       " [1] \"IeVerIdentifier_114\"              \"LocaleEnglishNameIdentifier_262\" \n",
       " [3] \"GeoNameIdentifier_29\"             \"Census_OSVersion_10_0_15063_540\" \n",
       " [5] \"Census_OSBuildRevision_540\"       \"LocaleEnglishNameIdentifier_246\" \n",
       " [7] \"Census_OSVersion_10_0_14393_2214\" \"LocaleEnglishNameIdentifier_215\" \n",
       " [9] \"LocaleEnglishNameIdentifier_107\"  \"GeoNameIdentifier_194\"           "
      ]
     },
     "metadata": {},
     "output_type": "display_data"
    }
   ],
   "source": [
    "# Select top 50 variables according to the Fisher Score\n",
    "best_fs_var <- varSelectionFisher(train_fit, dv_list, iv_list, num_select=50)\n",
    "head(best_fs_var, 10)"
   ]
  },
  {
   "cell_type": "code",
   "execution_count": 52,
   "metadata": {},
   "outputs": [],
   "source": [
    "# Apply variable selection to the data\n",
    "# Train\n",
    "var_select <- names(train_fit)[names(train_fit) %in% best_fs_var]\n",
    "train_sel <- train_fit[, c('MachineIdentifier', var_select, 'HasDetections')]\n",
    "# Valid\n",
    "var_select <- names(valid)[names(valid) %in% best_fs_var]\n",
    "valid_sel <- valid[, c('MachineIdentifier', var_select, 'HasDetections')]\n",
    "# Test\n",
    "var_select <- names(test)[names(test) %in% best_fs_var]\n",
    "test_sel <- test[, c('MachineIdentifier', var_select, 'HasDetections')]"
   ]
  },
  {
   "cell_type": "code",
   "execution_count": 53,
   "metadata": {},
   "outputs": [],
   "source": [
    "# Target Variable as factor for training the models\n",
    "train_sel$HasDetections<- as.factor(train_sel$HasDetections)\n",
    "\n",
    "# Dummy variables as factor\n",
    "dum <- which(!names(train_sel) %in% c('MachineIdentifier', 'HasDetections','Census_SystemVolumeTotalCapacity'))\n",
    "train_sel[,dum]  <- lapply(train_sel[,dum], as.factor)"
   ]
  },
  {
   "cell_type": "markdown",
   "metadata": {},
   "source": [
    "### 3. Methodology"
   ]
  },
  {
   "cell_type": "markdown",
   "metadata": {},
   "source": [
    "### 3.1 Logistic Regression"
   ]
  },
  {
   "cell_type": "code",
   "execution_count": 4,
   "metadata": {},
   "outputs": [
    {
     "name": "stderr",
     "output_type": "stream",
     "text": [
      "Starting parallelization in mode=socket with cpus=8.\n",
      "[Tune] Started tuning learner classif.logreg for parameter set:\n",
      "         Type len  Def Constr Req Tunable Trafo\n",
      "model logical   - TRUE      -   -    TRUE     -\n",
      "With control class: TuneControlGrid\n",
      "Imputation value: 1\n",
      "Exporting objects to slaves for mode socket: .mlr.slave.options\n",
      "Mapping in parallel: mode = socket; level = mlr.tuneParams; cpus = 8; elements = 2.\n",
      "[Tune] Result: model=FALSE : mmce.test.mean=0.4865754\n",
      "Stopped parallelization. All cleaned up.\n"
     ]
    }
   ],
   "source": [
    "# Set up cross-validation\n",
    "rdesc = makeResampleDesc(\"CV\", iters=5, predict=\"both\")\n",
    "\n",
    "# Define the model\n",
    "lg_lrn <- makeLearner(\"classif.logreg\", predict.type=\"prob\")\n",
    "\n",
    "# Define the task\n",
    "lg_task <- makeClassifTask(id=\"maleware_train\", data=train_sel[, -1], target=\"HasDetections\")\n",
    "\n",
    "# Set hyper parameter tuning\n",
    "tune_params <- makeParamSet(\n",
    "    \n",
    "           makeLogicalLearnerParam(\"model\", default = TRUE, tunable = TRUE)\n",
    ")\n",
    "\n",
    "ctrl = makeTuneControlGrid(resolution = 10L)\n",
    "\n",
    "parallelStartSocket(cpus = detectCores())\n",
    " \n",
    "lgPars <- tuneParams(lg_lrn, task = lg_task,\n",
    "                     resampling = rdesc,\n",
    "                     par.set = tune_params,\n",
    "                     control = ctrl)\n",
    " \n",
    "parallelStop()"
   ]
  },
  {
   "cell_type": "code",
   "execution_count": 5,
   "metadata": {},
   "outputs": [
    {
     "data": {
      "text/html": [
       "<strong>$model</strong> = FALSE"
      ],
      "text/latex": [
       "\\textbf{\\$model} = FALSE"
      ],
      "text/markdown": [
       "**$model** = FALSE"
      ],
      "text/plain": [
       "$model\n",
       "[1] FALSE\n"
      ]
     },
     "metadata": {},
     "output_type": "display_data"
    }
   ],
   "source": [
    "# check the tuned parameters\n",
    "lgPars$x"
   ]
  },
  {
   "cell_type": "code",
   "execution_count": 6,
   "metadata": {},
   "outputs": [],
   "source": [
    "# set learner with tuned parameters\n",
    "tunedLG <- setHyperPars(lg_lrn, par.vals = lgPars$x)\n",
    "# retain the model \n",
    "lgModel <- mlr::train(tunedLG, lg_task)"
   ]
  },
  {
   "cell_type": "code",
   "execution_count": 7,
   "metadata": {},
   "outputs": [
    {
     "name": "stderr",
     "output_type": "stream",
     "text": [
      "Warning message in predict.lm(object, newdata, se.fit, scale = 1, type = if (type == :\n",
      "\"prediction from a rank-deficient fit may be misleading\""
     ]
    },
    {
     "data": {
      "text/html": [
       "<strong>auc:</strong> 0.517567747912746"
      ],
      "text/latex": [
       "\\textbf{auc:} 0.517567747912746"
      ],
      "text/markdown": [
       "**auc:** 0.517567747912746"
      ],
      "text/plain": [
       "      auc \n",
       "0.5175677 "
      ]
     },
     "metadata": {},
     "output_type": "display_data"
    }
   ],
   "source": [
    "# Make prediction on valid data\n",
    "pred <- predict(lgModel, newdata=valid_sel[, -1])\n",
    "performance(pred, measures=mlr::auc)"
   ]
  },
  {
   "cell_type": "code",
   "execution_count": 8,
   "metadata": {},
   "outputs": [
    {
     "name": "stderr",
     "output_type": "stream",
     "text": [
      "Warning message in predict.lm(object, newdata, se.fit, scale = 1, type = if (type == :\n",
      "\"prediction from a rank-deficient fit may be misleading\""
     ]
    },
    {
     "data": {
      "text/html": [
       "<strong>auc:</strong> 0.517843295845761"
      ],
      "text/latex": [
       "\\textbf{auc:} 0.517843295845761"
      ],
      "text/markdown": [
       "**auc:** 0.517843295845761"
      ],
      "text/plain": [
       "      auc \n",
       "0.5178433 "
      ]
     },
     "metadata": {},
     "output_type": "display_data"
    }
   ],
   "source": [
    "# Make prediction on valid data\n",
    "pred <- predict(lgModel, newdata=test_sel[, -1])\n",
    "performance(pred, measures=mlr::auc)"
   ]
  },
  {
   "cell_type": "markdown",
   "metadata": {},
   "source": [
    "### 3.2 Random Forest"
   ]
  },
  {
   "cell_type": "code",
   "execution_count": 4,
   "metadata": {},
   "outputs": [
    {
     "name": "stderr",
     "output_type": "stream",
     "text": [
      "Starting parallelization in mode=socket with cpus=8.\n",
      "[Tune] Started tuning learner classif.randomForest for parameter set:\n",
      "            Type len Def    Constr Req Tunable Trafo\n",
      "ntree    integer   -   - 50 to 150   -    TRUE     -\n",
      "mtry     integer   -   -    1 to 5   -    TRUE     -\n",
      "nodesize integer   -   -  10 to 50   -    TRUE     -\n",
      "With control class: TuneControlRandom\n",
      "Imputation value: 1\n",
      "Exporting objects to slaves for mode socket: .mlr.slave.options\n",
      "Mapping in parallel: mode = socket; level = mlr.tuneParams; cpus = 8; elements = 20.\n",
      "[Tune] Result: ntree=57; mtry=5; nodesize=25 : mmce.test.mean=0.4781563\n",
      "Stopped parallelization. All cleaned up.\n"
     ]
    }
   ],
   "source": [
    "# Set up cross-validation\n",
    "rdesc = makeResampleDesc(\"CV\", iters=5)\n",
    "\n",
    "# Define the model\n",
    "rf_lrn <- makeLearner(\"classif.randomForest\", predict.type=\"prob\")\n",
    "\n",
    "# Define the task\n",
    "rf_task <- makeClassifTask(id=\"maleware_train\", data=train_sel[, -1], target=\"HasDetections\")\n",
    "\n",
    "# Set hyper parameter tuning\n",
    "tune_params <- makeParamSet(\n",
    "  makeIntegerParam(\"ntree\",lower = 50, upper = 150),\n",
    "  makeIntegerParam(\"mtry\", lower = 1, upper = 5),\n",
    "  makeIntegerParam(\"nodesize\", lower = 10, upper = 50)\n",
    ")\n",
    "ctrl = makeTuneControlRandom(maxit=20L)\n",
    "\n",
    "parallelStartSocket(cpus = detectCores())\n",
    " \n",
    "rfPars <- tuneParams(rf_lrn, task = rf_task,\n",
    "                     resampling = rdesc,\n",
    "                     par.set = tune_params,\n",
    "                     control = ctrl)\n",
    " \n",
    "parallelStop()"
   ]
  },
  {
   "cell_type": "code",
   "execution_count": 5,
   "metadata": {},
   "outputs": [
    {
     "data": {
      "text/html": [
       "<dl>\n",
       "\t<dt>$ntree</dt>\n",
       "\t\t<dd>57</dd>\n",
       "\t<dt>$mtry</dt>\n",
       "\t\t<dd>5</dd>\n",
       "\t<dt>$nodesize</dt>\n",
       "\t\t<dd>25</dd>\n",
       "</dl>\n"
      ],
      "text/latex": [
       "\\begin{description}\n",
       "\\item[\\$ntree] 57\n",
       "\\item[\\$mtry] 5\n",
       "\\item[\\$nodesize] 25\n",
       "\\end{description}\n"
      ],
      "text/markdown": [
       "$ntree\n",
       ":   57\n",
       "$mtry\n",
       ":   5\n",
       "$nodesize\n",
       ":   25\n",
       "\n",
       "\n"
      ],
      "text/plain": [
       "$ntree\n",
       "[1] 57\n",
       "\n",
       "$mtry\n",
       "[1] 5\n",
       "\n",
       "$nodesize\n",
       "[1] 25\n"
      ]
     },
     "metadata": {},
     "output_type": "display_data"
    }
   ],
   "source": [
    "# check the tuned parameters\n",
    "rfPars$x"
   ]
  },
  {
   "cell_type": "code",
   "execution_count": 6,
   "metadata": {},
   "outputs": [],
   "source": [
    "# set learner with tuned parameters\n",
    "tunedRF <- setHyperPars(rf_lrn, par.vals = rfPars$x)\n",
    "# retain the model \n",
    "rfModel <- mlr::train(tunedRF, rf_task)"
   ]
  },
  {
   "cell_type": "code",
   "execution_count": 7,
   "metadata": {},
   "outputs": [
    {
     "data": {
      "text/html": [
       "<strong>auc:</strong> 0.531851579322083"
      ],
      "text/latex": [
       "\\textbf{auc:} 0.531851579322083"
      ],
      "text/markdown": [
       "**auc:** 0.531851579322083"
      ],
      "text/plain": [
       "      auc \n",
       "0.5318516 "
      ]
     },
     "metadata": {},
     "output_type": "display_data"
    }
   ],
   "source": [
    "# Make prediction on valid data\n",
    "pred <- predict(rfModel, newdata=valid_sel[, -1])\n",
    "performance(pred, measures=mlr::auc)"
   ]
  },
  {
   "cell_type": "code",
   "execution_count": 8,
   "metadata": {},
   "outputs": [
    {
     "data": {
      "text/html": [
       "<strong>auc:</strong> 0.529430928636518"
      ],
      "text/latex": [
       "\\textbf{auc:} 0.529430928636518"
      ],
      "text/markdown": [
       "**auc:** 0.529430928636518"
      ],
      "text/plain": [
       "      auc \n",
       "0.5294309 "
      ]
     },
     "metadata": {},
     "output_type": "display_data"
    }
   ],
   "source": [
    "# Make prediction on test data\n",
    "pred <- predict(rfModel, newdata=test_sel[, -1])\n",
    "performance(pred, measures=mlr::auc)"
   ]
  },
  {
   "cell_type": "markdown",
   "metadata": {},
   "source": [
    "### 3.3 XGBoost (Extreme Gradient Boosting)"
   ]
  },
  {
   "cell_type": "code",
   "execution_count": 9,
   "metadata": {},
   "outputs": [
    {
     "name": "stderr",
     "output_type": "stream",
     "text": [
      "Starting parallelization in mode=socket with cpus=8.\n",
      "[Tune] Started tuning learner classif.xgboost for parameter set:\n",
      "             Type len Def       Constr Req Tunable Trafo\n",
      "nrounds   integer   -   - 100 to 1e+03   -    TRUE     -\n",
      "max_depth integer   -   -      1 to 15   -    TRUE     -\n",
      "eta       numeric   -   - 0.001 to 0.5   -    TRUE     -\n",
      "lambda    numeric   -   -      -1 to 3   -    TRUE     Y\n",
      "With control class: TuneControlMBO\n",
      "Imputation value: 1\n",
      "Mapping in parallel: mode = socket; level = mlrMBO.feval; cpus = 8; elements = 16.\n",
      "Warning message:\n",
      "\"package 'rgenoud' was built under R version 3.6.3\"Warning message in (function (fn, nvars, max = FALSE, pop.size = 1000, max.generations = 100, :\n",
      "\"Stopped because hard maximum generation limit was hit.\"Mapping in parallel: mode = socket; level = mlrMBO.feval; cpus = 8; elements = 1.\n",
      "Mapping in parallel: mode = socket; level = mlrMBO.feval; cpus = 8; elements = 1.\n",
      "Mapping in parallel: mode = socket; level = mlrMBO.feval; cpus = 8; elements = 1.\n",
      "Mapping in parallel: mode = socket; level = mlrMBO.feval; cpus = 8; elements = 1.\n",
      "Mapping in parallel: mode = socket; level = mlrMBO.feval; cpus = 8; elements = 1.\n",
      "Mapping in parallel: mode = socket; level = mlrMBO.feval; cpus = 8; elements = 1.\n",
      "Mapping in parallel: mode = socket; level = mlrMBO.feval; cpus = 8; elements = 1.\n",
      "Mapping in parallel: mode = socket; level = mlrMBO.feval; cpus = 8; elements = 1.\n",
      "Mapping in parallel: mode = socket; level = mlrMBO.feval; cpus = 8; elements = 1.\n",
      "Mapping in parallel: mode = socket; level = mlrMBO.feval; cpus = 8; elements = 1.\n",
      "Mapping in parallel: mode = socket; level = mlrMBO.feval; cpus = 8; elements = 1.\n",
      "Mapping in parallel: mode = socket; level = mlrMBO.feval; cpus = 8; elements = 1.\n",
      "Mapping in parallel: mode = socket; level = mlrMBO.feval; cpus = 8; elements = 1.\n",
      "Mapping in parallel: mode = socket; level = mlrMBO.feval; cpus = 8; elements = 1.\n",
      "Warning message in (function (fn, nvars, max = FALSE, pop.size = 1000, max.generations = 100, :\n",
      "\"Stopped because hard maximum generation limit was hit.\"Mapping in parallel: mode = socket; level = mlrMBO.feval; cpus = 8; elements = 1.\n",
      "Warning message in (function (fn, nvars, max = FALSE, pop.size = 1000, max.generations = 100, :\n",
      "\"Stopped because hard maximum generation limit was hit.\"Mapping in parallel: mode = socket; level = mlrMBO.feval; cpus = 8; elements = 1.\n",
      "Mapping in parallel: mode = socket; level = mlrMBO.feval; cpus = 8; elements = 1.\n",
      "Warning message in (function (fn, nvars, max = FALSE, pop.size = 1000, max.generations = 100, :\n",
      "\"Stopped because hard maximum generation limit was hit.\"Mapping in parallel: mode = socket; level = mlrMBO.feval; cpus = 8; elements = 1.\n",
      "Mapping in parallel: mode = socket; level = mlrMBO.feval; cpus = 8; elements = 1.\n",
      "Mapping in parallel: mode = socket; level = mlrMBO.feval; cpus = 8; elements = 1.\n",
      "Warning message in (function (fn, nvars, max = FALSE, pop.size = 1000, max.generations = 100, :\n",
      "\"Stopped because hard maximum generation limit was hit.\"Mapping in parallel: mode = socket; level = mlrMBO.feval; cpus = 8; elements = 1.\n",
      "Warning message in (function (fn, nvars, max = FALSE, pop.size = 1000, max.generations = 100, :\n",
      "\"Stopped because hard maximum generation limit was hit.\"Mapping in parallel: mode = socket; level = mlrMBO.feval; cpus = 8; elements = 1.\n",
      "Warning message in (function (fn, nvars, max = FALSE, pop.size = 1000, max.generations = 100, :\n",
      "\"Stopped because hard maximum generation limit was hit.\"Mapping in parallel: mode = socket; level = mlrMBO.feval; cpus = 8; elements = 1.\n",
      "Mapping in parallel: mode = socket; level = mlrMBO.feval; cpus = 8; elements = 1.\n",
      "Mapping in parallel: mode = socket; level = mlrMBO.feval; cpus = 8; elements = 1.\n",
      "Mapping in parallel: mode = socket; level = mlrMBO.feval; cpus = 8; elements = 1.\n",
      "Mapping in parallel: mode = socket; level = mlrMBO.feval; cpus = 8; elements = 1.\n",
      "Mapping in parallel: mode = socket; level = mlrMBO.feval; cpus = 8; elements = 1.\n",
      "Warning message in (function (fn, nvars, max = FALSE, pop.size = 1000, max.generations = 100, :\n",
      "\"Stopped because hard maximum generation limit was hit.\"Mapping in parallel: mode = socket; level = mlrMBO.feval; cpus = 8; elements = 1.\n",
      "Warning message in (function (fn, nvars, max = FALSE, pop.size = 1000, max.generations = 100, :\n",
      "\"Stopped because hard maximum generation limit was hit.\"Mapping in parallel: mode = socket; level = mlrMBO.feval; cpus = 8; elements = 1.\n",
      "Warning message in (function (fn, nvars, max = FALSE, pop.size = 1000, max.generations = 100, :\n",
      "\"Stopped because hard maximum generation limit was hit.\"Mapping in parallel: mode = socket; level = mlrMBO.feval; cpus = 8; elements = 1.\n",
      "Warning message in (function (fn, nvars, max = FALSE, pop.size = 1000, max.generations = 100, :\n",
      "\"Stopped because hard maximum generation limit was hit.\"Mapping in parallel: mode = socket; level = mlrMBO.feval; cpus = 8; elements = 1.\n",
      "Mapping in parallel: mode = socket; level = mlrMBO.feval; cpus = 8; elements = 1.\n",
      "Mapping in parallel: mode = socket; level = mlrMBO.feval; cpus = 8; elements = 1.\n",
      "Mapping in parallel: mode = socket; level = mlrMBO.feval; cpus = 8; elements = 1.\n",
      "Warning message in (function (fn, nvars, max = FALSE, pop.size = 1000, max.generations = 100, :\n",
      "\"Stopped because hard maximum generation limit was hit.\"Mapping in parallel: mode = socket; level = mlrMBO.feval; cpus = 8; elements = 1.\n",
      "Mapping in parallel: mode = socket; level = mlrMBO.feval; cpus = 8; elements = 1.\n",
      "Warning message in (function (fn, nvars, max = FALSE, pop.size = 1000, max.generations = 100, :\n",
      "\"Stopped because hard maximum generation limit was hit.\"Mapping in parallel: mode = socket; level = mlrMBO.feval; cpus = 8; elements = 1.\n",
      "Warning message in (function (fn, nvars, max = FALSE, pop.size = 1000, max.generations = 100, :\n",
      "\"Stopped because hard maximum generation limit was hit.\"Mapping in parallel: mode = socket; level = mlrMBO.feval; cpus = 8; elements = 1.\n",
      "Mapping in parallel: mode = socket; level = mlrMBO.feval; cpus = 8; elements = 1.\n",
      "Warning message in (function (fn, nvars, max = FALSE, pop.size = 1000, max.generations = 100, :\n",
      "\"Stopped because hard maximum generation limit was hit.\"Mapping in parallel: mode = socket; level = mlrMBO.feval; cpus = 8; elements = 1.\n",
      "Warning message in (function (fn, nvars, max = FALSE, pop.size = 1000, max.generations = 100, :\n",
      "\"Stopped because hard maximum generation limit was hit.\"Mapping in parallel: mode = socket; level = mlrMBO.feval; cpus = 8; elements = 1.\n",
      "Mapping in parallel: mode = socket; level = mlrMBO.feval; cpus = 8; elements = 1.\n",
      "Mapping in parallel: mode = socket; level = mlrMBO.feval; cpus = 8; elements = 1.\n",
      "Mapping in parallel: mode = socket; level = mlrMBO.feval; cpus = 8; elements = 1.\n",
      "Mapping in parallel: mode = socket; level = mlrMBO.feval; cpus = 8; elements = 1.\n",
      "Mapping in parallel: mode = socket; level = mlrMBO.feval; cpus = 8; elements = 1.\n",
      "Mapping in parallel: mode = socket; level = mlrMBO.feval; cpus = 8; elements = 1.\n",
      "Mapping in parallel: mode = socket; level = mlrMBO.feval; cpus = 8; elements = 1.\n",
      "Mapping in parallel: mode = socket; level = mlrMBO.feval; cpus = 8; elements = 1.\n",
      "[Tune] Result: nrounds=100; max_depth=9; eta=0.0803; lambda=146 : mmce.test.mean=0.4694166\n",
      "Stopped parallelization. All cleaned up.\n"
     ]
    }
   ],
   "source": [
    "# Define the model\n",
    "gb_lrn <- makeLearner(\"classif.xgboost\", predict.type=\"prob\")\n",
    "\n",
    "# Define the task\n",
    "gb_task <- makeClassifTask(id=\"maleware_train\", data=train_sel[, -1], target=\"HasDetections\")\n",
    "\n",
    "# Set up cross-validation\n",
    "rdesc <- makeResampleDesc(\"CV\", iters=10, predict=\"both\")\n",
    "cv_inst <- makeResampleInstance(rdesc, task = gb_task)\n",
    "\n",
    "# Set hyper parameter tuning\n",
    "tune_params <- makeParamSet(\n",
    "   makeIntegerParam(\"nrounds\", lower = 100, upper = 1000),\n",
    "  makeIntegerParam(\"max_depth\", lower = 1, upper = 15),\n",
    "  makeNumericParam(\"eta\", lower = .001, upper = .5),\n",
    "  makeNumericParam(\"lambda\", lower = -1, upper = 3, trafo = function(x) 10^x))\n",
    "                   \n",
    "# set tune control                   \n",
    "mbo.ctrl <- makeMBOControl()\n",
    "mbo.ctrl <- setMBOControlTermination(mbo.ctrl, iters = 50)\n",
    "ctrl <- mlr:::makeTuneControlMBO(mbo.control = mbo.ctrl)\n",
    "\n",
    "parallelStartSocket(cpus = detectCores())\n",
    " \n",
    "xgbstPars <- tuneParams(gb_lrn, task = gb_task,\n",
    "                     resampling = cv_inst,\n",
    "                     par.set = tune_params,\n",
    "                     control = ctrl)\n",
    " \n",
    "parallelStop()"
   ]
  },
  {
   "cell_type": "code",
   "execution_count": 10,
   "metadata": {},
   "outputs": [
    {
     "data": {
      "text/html": [
       "<dl>\n",
       "\t<dt>$nrounds</dt>\n",
       "\t\t<dd>100</dd>\n",
       "\t<dt>$max_depth</dt>\n",
       "\t\t<dd>9</dd>\n",
       "\t<dt>$eta</dt>\n",
       "\t\t<dd>0.0802747521685336</dd>\n",
       "\t<dt>$lambda</dt>\n",
       "\t\t<dd>146.452329369639</dd>\n",
       "</dl>\n"
      ],
      "text/latex": [
       "\\begin{description}\n",
       "\\item[\\$nrounds] 100\n",
       "\\item[\\$max\\_depth] 9\n",
       "\\item[\\$eta] 0.0802747521685336\n",
       "\\item[\\$lambda] 146.452329369639\n",
       "\\end{description}\n"
      ],
      "text/markdown": [
       "$nrounds\n",
       ":   100\n",
       "$max_depth\n",
       ":   9\n",
       "$eta\n",
       ":   0.0802747521685336\n",
       "$lambda\n",
       ":   146.452329369639\n",
       "\n",
       "\n"
      ],
      "text/plain": [
       "$nrounds\n",
       "[1] 100\n",
       "\n",
       "$max_depth\n",
       "[1] 9\n",
       "\n",
       "$eta\n",
       "[1] 0.08027475\n",
       "\n",
       "$lambda\n",
       "[1] 146.4523\n"
      ]
     },
     "metadata": {},
     "output_type": "display_data"
    }
   ],
   "source": [
    "# check the tuned parameters\n",
    "xgbstPars$x"
   ]
  },
  {
   "cell_type": "code",
   "execution_count": 11,
   "metadata": {},
   "outputs": [],
   "source": [
    "# set learner with tuned parameters\n",
    "tunedXGB <- setHyperPars(gb_lrn, par.vals = xgbstPars$x)\n",
    "# retain the model \n",
    "xgbModel <- mlr::train(tunedXGB, gb_task)"
   ]
  },
  {
   "cell_type": "code",
   "execution_count": 12,
   "metadata": {},
   "outputs": [
    {
     "data": {
      "text/html": [
       "<strong>auc:</strong> 0.54383449854824"
      ],
      "text/latex": [
       "\\textbf{auc:} 0.54383449854824"
      ],
      "text/markdown": [
       "**auc:** 0.54383449854824"
      ],
      "text/plain": [
       "      auc \n",
       "0.5438345 "
      ]
     },
     "metadata": {},
     "output_type": "display_data"
    }
   ],
   "source": [
    "# Make prediction on valid data\n",
    "pred <- predict(xgbModel, newdata=valid_sel[, -1])\n",
    "performance(pred, measures=mlr::auc)"
   ]
  },
  {
   "cell_type": "code",
   "execution_count": 13,
   "metadata": {},
   "outputs": [
    {
     "data": {
      "text/html": [
       "<strong>auc:</strong> 0.541445485455593"
      ],
      "text/latex": [
       "\\textbf{auc:} 0.541445485455593"
      ],
      "text/markdown": [
       "**auc:** 0.541445485455593"
      ],
      "text/plain": [
       "      auc \n",
       "0.5414455 "
      ]
     },
     "metadata": {},
     "output_type": "display_data"
    }
   ],
   "source": [
    "# Make prediction on test data\n",
    "pred <- predict(xgbModel, newdata=test_sel[, -1])\n",
    "performance(pred, measures=mlr::auc)"
   ]
  },
  {
   "cell_type": "code",
   "execution_count": null,
   "metadata": {},
   "outputs": [],
   "source": []
  }
 ],
 "metadata": {
  "kernelspec": {
   "display_name": "R",
   "language": "R",
   "name": "ir"
  },
  "language_info": {
   "codemirror_mode": "r",
   "file_extension": ".r",
   "mimetype": "text/x-r-source",
   "name": "R",
   "pygments_lexer": "r",
   "version": "3.6.1"
  }
 },
 "nbformat": 4,
 "nbformat_minor": 2
}
